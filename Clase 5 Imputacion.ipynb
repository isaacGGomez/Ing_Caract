{
 "cells": [
  {
   "cell_type": "code",
   "execution_count": 1,
   "metadata": {
    "collapsed": true
   },
   "outputs": [
    {
     "name": "stdout",
     "output_type": "stream",
     "text": [
      "Defaulting to user installation because normal site-packages is not writeable\n",
      "Collecting feature-engine\n",
      "  Downloading feature_engine-1.5.2-py2.py3-none-any.whl (290 kB)\n",
      "     ------------------------------------ 290.0/290.0 kB 813.3 kB/s eta 0:00:00\n",
      "Requirement already satisfied: scikit-learn>=1.0.0 in c:\\programdata\\anaconda3\\lib\\site-packages (from feature-engine) (1.0.2)\n",
      "Requirement already satisfied: statsmodels>=0.11.1 in c:\\programdata\\anaconda3\\lib\\site-packages (from feature-engine) (0.13.2)\n",
      "Requirement already satisfied: numpy>=1.18.2 in c:\\users\\isaac gomez\\appdata\\roaming\\python\\python39\\site-packages (from feature-engine) (1.23.4)\n",
      "Requirement already satisfied: pandas>=1.0.3 in c:\\users\\isaac gomez\\appdata\\roaming\\python\\python39\\site-packages (from feature-engine) (1.5.1)\n",
      "Requirement already satisfied: scipy>=1.4.1 in c:\\programdata\\anaconda3\\lib\\site-packages (from feature-engine) (1.9.3)\n",
      "Requirement already satisfied: pytz>=2020.1 in c:\\users\\isaac gomez\\appdata\\roaming\\python\\python39\\site-packages (from pandas>=1.0.3->feature-engine) (2022.6)\n",
      "Requirement already satisfied: python-dateutil>=2.8.1 in c:\\users\\isaac gomez\\appdata\\roaming\\python\\python39\\site-packages (from pandas>=1.0.3->feature-engine) (2.8.2)\n",
      "Requirement already satisfied: joblib>=0.11 in c:\\programdata\\anaconda3\\lib\\site-packages (from scikit-learn>=1.0.0->feature-engine) (1.1.1)\n",
      "Requirement already satisfied: threadpoolctl>=2.0.0 in c:\\programdata\\anaconda3\\lib\\site-packages (from scikit-learn>=1.0.0->feature-engine) (2.2.0)\n",
      "Requirement already satisfied: patsy>=0.5.2 in c:\\programdata\\anaconda3\\lib\\site-packages (from statsmodels>=0.11.1->feature-engine) (0.5.2)\n",
      "Requirement already satisfied: packaging>=21.3 in c:\\programdata\\anaconda3\\lib\\site-packages (from statsmodels>=0.11.1->feature-engine) (21.3)\n",
      "Requirement already satisfied: pyparsing!=3.0.5,>=2.0.2 in c:\\programdata\\anaconda3\\lib\\site-packages (from packaging>=21.3->statsmodels>=0.11.1->feature-engine) (3.0.9)\n",
      "Requirement already satisfied: six in c:\\programdata\\anaconda3\\lib\\site-packages (from patsy>=0.5.2->statsmodels>=0.11.1->feature-engine) (1.16.0)\n",
      "Installing collected packages: feature-engine\n",
      "Successfully installed feature-engine-1.5.2\n"
     ]
    }
   ],
   "source": [
    "!pip install feature-engine"
   ]
  },
  {
   "cell_type": "code",
   "execution_count": 3,
   "outputs": [],
   "source": [
    "from feature_engine.imputation import RandomSampleImputer"
   ],
   "metadata": {
    "collapsed": false
   }
  },
  {
   "cell_type": "code",
   "execution_count": 4,
   "outputs": [],
   "source": [
    "?RandomSampleImputer"
   ],
   "metadata": {
    "collapsed": false
   }
  }
 ],
 "metadata": {
  "kernelspec": {
   "display_name": "Python 3",
   "language": "python",
   "name": "python3"
  },
  "language_info": {
   "codemirror_mode": {
    "name": "ipython",
    "version": 2
   },
   "file_extension": ".py",
   "mimetype": "text/x-python",
   "name": "python",
   "nbconvert_exporter": "python",
   "pygments_lexer": "ipython2",
   "version": "2.7.6"
  }
 },
 "nbformat": 4,
 "nbformat_minor": 0
}
