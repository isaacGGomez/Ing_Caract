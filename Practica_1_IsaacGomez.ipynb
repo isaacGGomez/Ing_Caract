{
 "cells": [
  {
   "cell_type": "code",
   "execution_count": 78,
   "metadata": {
    "collapsed": true
   },
   "outputs": [
    {
     "data": {
      "text/plain": "         x_1       x_2       x_3       x_4  x_5  x_6       x_7          y\n0  15.310142       NaN  8.436759  3.723421  Dec  NaN  1.319733  21.408846\n1  11.841750  1.558534 -4.776643  4.304625  Dec   MB  7.129585   0.273072\n2   4.343978       NaN       NaN  4.540588  NaN   MM       NaN  19.010811\n3        NaN  2.428672  9.003936  4.456992  NaN   MA       NaN  13.564040\n4  14.892188       NaN  8.468824  1.070600  NaN    B  3.369261  25.493163",
      "text/html": "<div>\n<style scoped>\n    .dataframe tbody tr th:only-of-type {\n        vertical-align: middle;\n    }\n\n    .dataframe tbody tr th {\n        vertical-align: top;\n    }\n\n    .dataframe thead th {\n        text-align: right;\n    }\n</style>\n<table border=\"1\" class=\"dataframe\">\n  <thead>\n    <tr style=\"text-align: right;\">\n      <th></th>\n      <th>x_1</th>\n      <th>x_2</th>\n      <th>x_3</th>\n      <th>x_4</th>\n      <th>x_5</th>\n      <th>x_6</th>\n      <th>x_7</th>\n      <th>y</th>\n    </tr>\n  </thead>\n  <tbody>\n    <tr>\n      <th>0</th>\n      <td>15.310142</td>\n      <td>NaN</td>\n      <td>8.436759</td>\n      <td>3.723421</td>\n      <td>Dec</td>\n      <td>NaN</td>\n      <td>1.319733</td>\n      <td>21.408846</td>\n    </tr>\n    <tr>\n      <th>1</th>\n      <td>11.841750</td>\n      <td>1.558534</td>\n      <td>-4.776643</td>\n      <td>4.304625</td>\n      <td>Dec</td>\n      <td>MB</td>\n      <td>7.129585</td>\n      <td>0.273072</td>\n    </tr>\n    <tr>\n      <th>2</th>\n      <td>4.343978</td>\n      <td>NaN</td>\n      <td>NaN</td>\n      <td>4.540588</td>\n      <td>NaN</td>\n      <td>MM</td>\n      <td>NaN</td>\n      <td>19.010811</td>\n    </tr>\n    <tr>\n      <th>3</th>\n      <td>NaN</td>\n      <td>2.428672</td>\n      <td>9.003936</td>\n      <td>4.456992</td>\n      <td>NaN</td>\n      <td>MA</td>\n      <td>NaN</td>\n      <td>13.564040</td>\n    </tr>\n    <tr>\n      <th>4</th>\n      <td>14.892188</td>\n      <td>NaN</td>\n      <td>8.468824</td>\n      <td>1.070600</td>\n      <td>NaN</td>\n      <td>B</td>\n      <td>3.369261</td>\n      <td>25.493163</td>\n    </tr>\n  </tbody>\n</table>\n</div>"
     },
     "execution_count": 78,
     "metadata": {},
     "output_type": "execute_result"
    }
   ],
   "source": [
    "import pandas as pd\n",
    "data = pd.read_csv(\"https://raw.githubusercontent.com/isaacGGomez/Ing_Caract/master/dist.data\",sep = \",\")\n",
    "data.head()"
   ]
  },
  {
   "cell_type": "code",
   "execution_count": 79,
   "outputs": [
    {
     "name": "stdout",
     "output_type": "stream",
     "text": [
      "<class 'pandas.core.frame.DataFrame'>\n",
      "RangeIndex: 528 entries, 0 to 527\n",
      "Data columns (total 8 columns):\n",
      " #   Column  Non-Null Count  Dtype  \n",
      "---  ------  --------------  -----  \n",
      " 0   x_1     484 non-null    float64\n",
      " 1   x_2     265 non-null    float64\n",
      " 2   x_3     464 non-null    float64\n",
      " 3   x_4     507 non-null    float64\n",
      " 4   x_5     377 non-null    object \n",
      " 5   x_6     358 non-null    object \n",
      " 6   x_7     155 non-null    float64\n",
      " 7   y       518 non-null    float64\n",
      "dtypes: float64(6), object(2)\n",
      "memory usage: 33.1+ KB\n"
     ]
    }
   ],
   "source": [
    "data.info()"
   ],
   "metadata": {
    "collapsed": false
   }
  },
  {
   "cell_type": "code",
   "execution_count": 80,
   "outputs": [
    {
     "data": {
      "text/plain": "     x_1    x_2    x_3    x_4    x_5    x_6    x_7      y\n0  False   True  False  False  False   True  False  False\n1  False  False  False  False  False  False  False  False\n2  False   True   True  False   True  False   True  False\n3   True  False  False  False   True  False   True  False\n4  False   True  False  False   True  False  False  False",
      "text/html": "<div>\n<style scoped>\n    .dataframe tbody tr th:only-of-type {\n        vertical-align: middle;\n    }\n\n    .dataframe tbody tr th {\n        vertical-align: top;\n    }\n\n    .dataframe thead th {\n        text-align: right;\n    }\n</style>\n<table border=\"1\" class=\"dataframe\">\n  <thead>\n    <tr style=\"text-align: right;\">\n      <th></th>\n      <th>x_1</th>\n      <th>x_2</th>\n      <th>x_3</th>\n      <th>x_4</th>\n      <th>x_5</th>\n      <th>x_6</th>\n      <th>x_7</th>\n      <th>y</th>\n    </tr>\n  </thead>\n  <tbody>\n    <tr>\n      <th>0</th>\n      <td>False</td>\n      <td>True</td>\n      <td>False</td>\n      <td>False</td>\n      <td>False</td>\n      <td>True</td>\n      <td>False</td>\n      <td>False</td>\n    </tr>\n    <tr>\n      <th>1</th>\n      <td>False</td>\n      <td>False</td>\n      <td>False</td>\n      <td>False</td>\n      <td>False</td>\n      <td>False</td>\n      <td>False</td>\n      <td>False</td>\n    </tr>\n    <tr>\n      <th>2</th>\n      <td>False</td>\n      <td>True</td>\n      <td>True</td>\n      <td>False</td>\n      <td>True</td>\n      <td>False</td>\n      <td>True</td>\n      <td>False</td>\n    </tr>\n    <tr>\n      <th>3</th>\n      <td>True</td>\n      <td>False</td>\n      <td>False</td>\n      <td>False</td>\n      <td>True</td>\n      <td>False</td>\n      <td>True</td>\n      <td>False</td>\n    </tr>\n    <tr>\n      <th>4</th>\n      <td>False</td>\n      <td>True</td>\n      <td>False</td>\n      <td>False</td>\n      <td>True</td>\n      <td>False</td>\n      <td>False</td>\n      <td>False</td>\n    </tr>\n  </tbody>\n</table>\n</div>"
     },
     "execution_count": 80,
     "metadata": {},
     "output_type": "execute_result"
    }
   ],
   "source": [
    "dataNA = data.isna()\n",
    "dataNA.head()"
   ],
   "metadata": {
    "collapsed": false
   }
  },
  {
   "cell_type": "code",
   "execution_count": 81,
   "outputs": [],
   "source": [
    "GroupNA = dataNA.sum()"
   ],
   "metadata": {
    "collapsed": false
   }
  },
  {
   "cell_type": "code",
   "execution_count": 82,
   "outputs": [],
   "source": [
    "sizedf = len(dataNA)"
   ],
   "metadata": {
    "collapsed": false
   }
  },
  {
   "cell_type": "code",
   "execution_count": 83,
   "outputs": [
    {
     "data": {
      "text/plain": "x_1     8.333333\nx_2    49.810606\nx_3    12.121212\nx_4     3.977273\nx_5    28.598485\nx_6    32.196970\nx_7    70.643939\ny       1.893939\ndtype: float64"
     },
     "execution_count": 83,
     "metadata": {},
     "output_type": "execute_result"
    }
   ],
   "source": [
    "(GroupNA/sizedf)*100"
   ],
   "metadata": {
    "collapsed": false
   }
  },
  {
   "cell_type": "code",
   "execution_count": 84,
   "outputs": [
    {
     "data": {
      "text/plain": "         x_1       x_2       x_3       x_4  x_5  x_6          y\n0  15.310142       NaN  8.436759  3.723421  Dec  NaN  21.408846\n1  11.841750  1.558534 -4.776643  4.304625  Dec   MB   0.273072\n2   4.343978       NaN       NaN  4.540588  NaN   MM  19.010811\n3        NaN  2.428672  9.003936  4.456992  NaN   MA  13.564040\n4  14.892188       NaN  8.468824  1.070600  NaN    B  25.493163",
      "text/html": "<div>\n<style scoped>\n    .dataframe tbody tr th:only-of-type {\n        vertical-align: middle;\n    }\n\n    .dataframe tbody tr th {\n        vertical-align: top;\n    }\n\n    .dataframe thead th {\n        text-align: right;\n    }\n</style>\n<table border=\"1\" class=\"dataframe\">\n  <thead>\n    <tr style=\"text-align: right;\">\n      <th></th>\n      <th>x_1</th>\n      <th>x_2</th>\n      <th>x_3</th>\n      <th>x_4</th>\n      <th>x_5</th>\n      <th>x_6</th>\n      <th>y</th>\n    </tr>\n  </thead>\n  <tbody>\n    <tr>\n      <th>0</th>\n      <td>15.310142</td>\n      <td>NaN</td>\n      <td>8.436759</td>\n      <td>3.723421</td>\n      <td>Dec</td>\n      <td>NaN</td>\n      <td>21.408846</td>\n    </tr>\n    <tr>\n      <th>1</th>\n      <td>11.841750</td>\n      <td>1.558534</td>\n      <td>-4.776643</td>\n      <td>4.304625</td>\n      <td>Dec</td>\n      <td>MB</td>\n      <td>0.273072</td>\n    </tr>\n    <tr>\n      <th>2</th>\n      <td>4.343978</td>\n      <td>NaN</td>\n      <td>NaN</td>\n      <td>4.540588</td>\n      <td>NaN</td>\n      <td>MM</td>\n      <td>19.010811</td>\n    </tr>\n    <tr>\n      <th>3</th>\n      <td>NaN</td>\n      <td>2.428672</td>\n      <td>9.003936</td>\n      <td>4.456992</td>\n      <td>NaN</td>\n      <td>MA</td>\n      <td>13.564040</td>\n    </tr>\n    <tr>\n      <th>4</th>\n      <td>14.892188</td>\n      <td>NaN</td>\n      <td>8.468824</td>\n      <td>1.070600</td>\n      <td>NaN</td>\n      <td>B</td>\n      <td>25.493163</td>\n    </tr>\n  </tbody>\n</table>\n</div>"
     },
     "execution_count": 84,
     "metadata": {},
     "output_type": "execute_result"
    }
   ],
   "source": [
    "finaldf = data.drop(axis=1,columns='x_7')\n",
    "finaldf.head()"
   ],
   "metadata": {
    "collapsed": false
   }
  },
  {
   "cell_type": "code",
   "execution_count": 85,
   "outputs": [
    {
     "data": {
      "text/plain": "<Figure size 1600x800 with 6 Axes>",
      "image/png": "[encoded data removed]"
     },
     "metadata": {},
     "output_type": "display_data"
    }
   ],
   "source": [
    "plots = finaldf.hist(figsize=(16,8))"
   ],
   "metadata": {
    "collapsed": false
   }
  },
  {
   "cell_type": "code",
   "execution_count": 86,
   "outputs": [
    {
     "data": {
      "text/plain": "<AxesSubplot:>"
     },
     "execution_count": 86,
     "metadata": {},
     "output_type": "execute_result"
    },
    {
     "data": {
      "text/plain": "<Figure size 640x480 with 1 Axes>",
      "image/png": "[encoded data removed]"
     },
     "metadata": {},
     "output_type": "display_data"
    }
   ],
   "source": [
    "data['x_5'].value_counts().plot(kind='bar')"
   ],
   "metadata": {
    "collapsed": false
   }
  },
  {
   "cell_type": "code",
   "execution_count": 87,
   "outputs": [
    {
     "data": {
      "text/plain": "<AxesSubplot:>"
     },
     "execution_count": 87,
     "metadata": {},
     "output_type": "execute_result"
    },
    {
     "data": {
      "text/plain": "<Figure size 640x480 with 1 Axes>",
      "image/png": "[encoded data removed]"
     },
     "metadata": {},
     "output_type": "display_data"
    }
   ],
   "source": [
    "data['x_6'].value_counts().plot(kind='bar')"
   ],
   "metadata": {
    "collapsed": false
   }
  },
  {
   "cell_type": "markdown",
   "source": [
    "Las sustituciones se realizaran de la siguiente manera\n",
    "x_1: Imputacion mediante sustitucion aleatoria\n",
    "x_2: Imputacion mediante la media\n",
    "x_3: Imputacion mediante sustitucion aleatoria\n",
    "x_4: Imputacion mediante la mediana\n",
    "x_6: Imputacion mediante la moda\n",
    "x_7: Imputacion mediante la moda\n",
    "y = Imputacion mediante la media\n",
    "\n",
    "\n"
   ],
   "metadata": {
    "collapsed": false
   }
  },
  {
   "cell_type": "code",
   "execution_count": 88,
   "outputs": [
    {
     "name": "stderr",
     "output_type": "stream",
     "text": [
      "C:\\Users\\Isaac Gomez\\AppData\\Local\\Temp\\ipykernel_18304\\3075447224.py:1: FutureWarning: The default value of numeric_only in DataFrame.kurt is deprecated. In a future version, it will default to False. In addition, specifying 'numeric_only=None' is deprecated. Select only valid columns or specify the value of numeric_only to silence this warning.\n",
      "  data.kurt()\n"
     ]
    },
    {
     "data": {
      "text/plain": "x_1   -1.216049\nx_2   -0.081620\nx_3   -1.217412\nx_4   -0.823828\nx_7   -0.388848\ny     -0.508963\ndtype: float64"
     },
     "execution_count": 88,
     "metadata": {},
     "output_type": "execute_result"
    }
   ],
   "source": [
    "data.kurt()"
   ],
   "metadata": {
    "collapsed": false
   }
  },
  {
   "cell_type": "code",
   "execution_count": 89,
   "outputs": [
    {
     "name": "stderr",
     "output_type": "stream",
     "text": [
      "C:\\Users\\Isaac Gomez\\AppData\\Local\\Temp\\ipykernel_18304\\1325481610.py:1: FutureWarning: The default value of numeric_only in DataFrame.skew is deprecated. In a future version, it will default to False. In addition, specifying 'numeric_only=None' is deprecated. Select only valid columns or specify the value of numeric_only to silence this warning.\n",
      "  finaldf.skew()\n"
     ]
    },
    {
     "data": {
      "text/plain": "x_1    0.045977\nx_2    0.196266\nx_3    0.012478\nx_4   -0.478714\ny      0.130844\ndtype: float64"
     },
     "execution_count": 89,
     "metadata": {},
     "output_type": "execute_result"
    }
   ],
   "source": [
    "finaldf.skew()"
   ],
   "metadata": {
    "collapsed": false
   }
  },
  {
   "cell_type": "code",
   "execution_count": 90,
   "outputs": [
    {
     "data": {
      "text/plain": "x_2    0.951598\ny      8.653641\ndtype: float64"
     },
     "execution_count": 90,
     "metadata": {},
     "output_type": "execute_result"
    }
   ],
   "source": [
    "m = finaldf[['x_2','y']].mean()\n",
    "m"
   ],
   "metadata": {
    "collapsed": false
   }
  },
  {
   "cell_type": "code",
   "execution_count": 91,
   "outputs": [
    {
     "data": {
      "text/plain": "x_1     44\nx_2      0\nx_3     64\nx_4     21\nx_5    151\nx_6    170\ny        0\ndtype: int64"
     },
     "execution_count": 91,
     "metadata": {},
     "output_type": "execute_result"
    }
   ],
   "source": [
    "finaldf[['x_2','y']] = finaldf[['x_2','y']].fillna(m)\n",
    "finaldf.isna().sum()"
   ],
   "metadata": {
    "collapsed": false
   }
  },
  {
   "cell_type": "code",
   "execution_count": 92,
   "outputs": [
    {
     "data": {
      "text/plain": "           x_1       x_2        x_3       x_4  x_5  x_6          y\n0    15.310142  0.951598   8.436759  3.723421  Dec  NaN  21.408846\n1    11.841750  1.558534  -4.776643  4.304625  Dec   MB   0.273072\n2     4.343978  0.951598        NaN  4.540588  NaN   MM  19.010811\n3          NaN  2.428672   9.003936  4.456992  NaN   MA  13.564040\n4    14.892188  0.951598   8.468824  1.070600  NaN    B  25.493163\n..         ...       ...        ...       ...  ...  ...        ...\n523  10.844312  0.951598   1.653327  4.249280  Dec   MM   7.833448\n524  12.346405  0.951598   1.041838  3.406081  Dec   MB  10.452970\n525   1.496831  3.115300   9.288658  4.547431  App   MM   9.310863\n526        NaN  0.951598  12.267643  2.867885  App   MA  27.283751\n527   4.694991  0.562793   0.644289  2.128851  App   MB   6.373201\n\n[528 rows x 7 columns]",
      "text/html": "<div>\n<style scoped>\n    .dataframe tbody tr th:only-of-type {\n        vertical-align: middle;\n    }\n\n    .dataframe tbody tr th {\n        vertical-align: top;\n    }\n\n    .dataframe thead th {\n        text-align: right;\n    }\n</style>\n<table border=\"1\" class=\"dataframe\">\n  <thead>\n    <tr style=\"text-align: right;\">\n      <th></th>\n      <th>x_1</th>\n      <th>x_2</th>\n      <th>x_3</th>\n      <th>x_4</th>\n      <th>x_5</th>\n      <th>x_6</th>\n      <th>y</th>\n    </tr>\n  </thead>\n  <tbody>\n    <tr>\n      <th>0</th>\n      <td>15.310142</td>\n      <td>0.951598</td>\n      <td>8.436759</td>\n      <td>3.723421</td>\n      <td>Dec</td>\n      <td>NaN</td>\n      <td>21.408846</td>\n    </tr>\n    <tr>\n      <th>1</th>\n      <td>11.841750</td>\n      <td>1.558534</td>\n      <td>-4.776643</td>\n      <td>4.304625</td>\n      <td>Dec</td>\n      <td>MB</td>\n      <td>0.273072</td>\n    </tr>\n    <tr>\n      <th>2</th>\n      <td>4.343978</td>\n      <td>0.951598</td>\n      <td>NaN</td>\n      <td>4.540588</td>\n      <td>NaN</td>\n      <td>MM</td>\n      <td>19.010811</td>\n    </tr>\n    <tr>\n      <th>3</th>\n      <td>NaN</td>\n      <td>2.428672</td>\n      <td>9.003936</td>\n      <td>4.456992</td>\n      <td>NaN</td>\n      <td>MA</td>\n      <td>13.564040</td>\n    </tr>\n    <tr>\n      <th>4</th>\n      <td>14.892188</td>\n      <td>0.951598</td>\n      <td>8.468824</td>\n      <td>1.070600</td>\n      <td>NaN</td>\n      <td>B</td>\n      <td>25.493163</td>\n    </tr>\n    <tr>\n      <th>...</th>\n      <td>...</td>\n      <td>...</td>\n      <td>...</td>\n      <td>...</td>\n      <td>...</td>\n      <td>...</td>\n      <td>...</td>\n    </tr>\n    <tr>\n      <th>523</th>\n      <td>10.844312</td>\n      <td>0.951598</td>\n      <td>1.653327</td>\n      <td>4.249280</td>\n      <td>Dec</td>\n      <td>MM</td>\n      <td>7.833448</td>\n    </tr>\n    <tr>\n      <th>524</th>\n      <td>12.346405</td>\n      <td>0.951598</td>\n      <td>1.041838</td>\n      <td>3.406081</td>\n      <td>Dec</td>\n      <td>MB</td>\n      <td>10.452970</td>\n    </tr>\n    <tr>\n      <th>525</th>\n      <td>1.496831</td>\n      <td>3.115300</td>\n      <td>9.288658</td>\n      <td>4.547431</td>\n      <td>App</td>\n      <td>MM</td>\n      <td>9.310863</td>\n    </tr>\n    <tr>\n      <th>526</th>\n      <td>NaN</td>\n      <td>0.951598</td>\n      <td>12.267643</td>\n      <td>2.867885</td>\n      <td>App</td>\n      <td>MA</td>\n      <td>27.283751</td>\n    </tr>\n    <tr>\n      <th>527</th>\n      <td>4.694991</td>\n      <td>0.562793</td>\n      <td>0.644289</td>\n      <td>2.128851</td>\n      <td>App</td>\n      <td>MB</td>\n      <td>6.373201</td>\n    </tr>\n  </tbody>\n</table>\n<p>528 rows × 7 columns</p>\n</div>"
     },
     "execution_count": 92,
     "metadata": {},
     "output_type": "execute_result"
    }
   ],
   "source": [
    "finaldf"
   ],
   "metadata": {
    "collapsed": false
   }
  },
  {
   "cell_type": "code",
   "execution_count": 95,
   "outputs": [
    {
     "ename": "IndexError",
     "evalue": "single positional indexer is out-of-bounds",
     "output_type": "error",
     "traceback": [
      "\u001B[1;31m---------------------------------------------------------------------------\u001B[0m",
      "\u001B[1;31mIndexError\u001B[0m                                Traceback (most recent call last)",
      "Cell \u001B[1;32mIn [95], line 1\u001B[0m\n\u001B[1;32m----> 1\u001B[0m mod \u001B[38;5;241m=\u001B[39m \u001B[43mfinaldf\u001B[49m\u001B[43m[\u001B[49m\u001B[43m[\u001B[49m\u001B[38;5;124;43m'\u001B[39;49m\u001B[38;5;124;43mx_5\u001B[39;49m\u001B[38;5;124;43m'\u001B[39;49m\u001B[43m,\u001B[49m\u001B[38;5;124;43m'\u001B[39;49m\u001B[38;5;124;43mx_6\u001B[39;49m\u001B[38;5;124;43m'\u001B[39;49m\u001B[43m]\u001B[49m\u001B[43m]\u001B[49m\u001B[38;5;241;43m.\u001B[39;49m\u001B[43mmode\u001B[49m\u001B[43m(\u001B[49m\u001B[43m)\u001B[49m\u001B[38;5;241;43m.\u001B[39;49m\u001B[43miloc\u001B[49m\u001B[43m[\u001B[49m\u001B[38;5;241;43m0\u001B[39;49m\u001B[43m]\u001B[49m\n\u001B[0;32m      2\u001B[0m mod\n",
      "File \u001B[1;32m~\\AppData\\Roaming\\Python\\Python39\\site-packages\\pandas\\core\\indexing.py:1073\u001B[0m, in \u001B[0;36m_LocationIndexer.__getitem__\u001B[1;34m(self, key)\u001B[0m\n\u001B[0;32m   1070\u001B[0m axis \u001B[38;5;241m=\u001B[39m \u001B[38;5;28mself\u001B[39m\u001B[38;5;241m.\u001B[39maxis \u001B[38;5;129;01mor\u001B[39;00m \u001B[38;5;241m0\u001B[39m\n\u001B[0;32m   1072\u001B[0m maybe_callable \u001B[38;5;241m=\u001B[39m com\u001B[38;5;241m.\u001B[39mapply_if_callable(key, \u001B[38;5;28mself\u001B[39m\u001B[38;5;241m.\u001B[39mobj)\n\u001B[1;32m-> 1073\u001B[0m \u001B[38;5;28;01mreturn\u001B[39;00m \u001B[38;5;28;43mself\u001B[39;49m\u001B[38;5;241;43m.\u001B[39;49m\u001B[43m_getitem_axis\u001B[49m\u001B[43m(\u001B[49m\u001B[43mmaybe_callable\u001B[49m\u001B[43m,\u001B[49m\u001B[43m \u001B[49m\u001B[43maxis\u001B[49m\u001B[38;5;241;43m=\u001B[39;49m\u001B[43maxis\u001B[49m\u001B[43m)\u001B[49m\n",
      "File \u001B[1;32m~\\AppData\\Roaming\\Python\\Python39\\site-packages\\pandas\\core\\indexing.py:1625\u001B[0m, in \u001B[0;36m_iLocIndexer._getitem_axis\u001B[1;34m(self, key, axis)\u001B[0m\n\u001B[0;32m   1622\u001B[0m     \u001B[38;5;28;01mraise\u001B[39;00m \u001B[38;5;167;01mTypeError\u001B[39;00m(\u001B[38;5;124m\"\u001B[39m\u001B[38;5;124mCannot index by location index with a non-integer key\u001B[39m\u001B[38;5;124m\"\u001B[39m)\n\u001B[0;32m   1624\u001B[0m \u001B[38;5;66;03m# validate the location\u001B[39;00m\n\u001B[1;32m-> 1625\u001B[0m \u001B[38;5;28;43mself\u001B[39;49m\u001B[38;5;241;43m.\u001B[39;49m\u001B[43m_validate_integer\u001B[49m\u001B[43m(\u001B[49m\u001B[43mkey\u001B[49m\u001B[43m,\u001B[49m\u001B[43m \u001B[49m\u001B[43maxis\u001B[49m\u001B[43m)\u001B[49m\n\u001B[0;32m   1627\u001B[0m \u001B[38;5;28;01mreturn\u001B[39;00m \u001B[38;5;28mself\u001B[39m\u001B[38;5;241m.\u001B[39mobj\u001B[38;5;241m.\u001B[39m_ixs(key, axis\u001B[38;5;241m=\u001B[39maxis)\n",
      "File \u001B[1;32m~\\AppData\\Roaming\\Python\\Python39\\site-packages\\pandas\\core\\indexing.py:1557\u001B[0m, in \u001B[0;36m_iLocIndexer._validate_integer\u001B[1;34m(self, key, axis)\u001B[0m\n\u001B[0;32m   1555\u001B[0m len_axis \u001B[38;5;241m=\u001B[39m \u001B[38;5;28mlen\u001B[39m(\u001B[38;5;28mself\u001B[39m\u001B[38;5;241m.\u001B[39mobj\u001B[38;5;241m.\u001B[39m_get_axis(axis))\n\u001B[0;32m   1556\u001B[0m \u001B[38;5;28;01mif\u001B[39;00m key \u001B[38;5;241m>\u001B[39m\u001B[38;5;241m=\u001B[39m len_axis \u001B[38;5;129;01mor\u001B[39;00m key \u001B[38;5;241m<\u001B[39m \u001B[38;5;241m-\u001B[39mlen_axis:\n\u001B[1;32m-> 1557\u001B[0m     \u001B[38;5;28;01mraise\u001B[39;00m \u001B[38;5;167;01mIndexError\u001B[39;00m(\u001B[38;5;124m\"\u001B[39m\u001B[38;5;124msingle positional indexer is out-of-bounds\u001B[39m\u001B[38;5;124m\"\u001B[39m)\n",
      "\u001B[1;31mIndexError\u001B[0m: single positional indexer is out-of-bounds"
     ]
    }
   ],
   "source": [
    "mod = finaldf[['x_5','x_6']].mode().iloc[0]\n",
    "mod"
   ],
   "metadata": {
    "collapsed": false
   }
  },
  {
   "cell_type": "code",
   "execution_count": 94,
   "outputs": [
    {
     "name": "stderr",
     "output_type": "stream",
     "text": [
      "C:\\Users\\Isaac Gomez\\AppData\\Local\\Temp\\ipykernel_18304\\2868578480.py:1: SettingWithCopyWarning: \n",
      "A value is trying to be set on a copy of a slice from a DataFrame\n",
      "\n",
      "See the caveats in the documentation: https://pandas.pydata.org/pandas-docs/stable/user_guide/indexing.html#returning-a-view-versus-a-copy\n",
      "  finaldf[['x_5','x_6']] = finaldf[['x_5','x_6']].fillna(mod,inplace=True)\n"
     ]
    },
    {
     "data": {
      "text/plain": "x_1     44\nx_2      0\nx_3     64\nx_4     21\nx_5    528\nx_6    528\ny        0\ndtype: int64"
     },
     "execution_count": 94,
     "metadata": {},
     "output_type": "execute_result"
    }
   ],
   "source": [
    "finaldf[['x_5','x_6']] = finaldf[['x_5','x_6']].fillna(mod,inplace=True)\n",
    "finaldf.isna().sum()"
   ],
   "metadata": {
    "collapsed": false
   }
  },
  {
   "cell_type": "code",
   "execution_count": 73,
   "outputs": [
    {
     "data": {
      "text/plain": "x_1     44\nx_2    263\nx_3     64\nx_4     21\nx_5    151\nx_6    170\nx_7    373\ny       10\ndtype: int64"
     },
     "execution_count": 73,
     "metadata": {},
     "output_type": "execute_result"
    }
   ],
   "source": [
    "data.isna().sum()"
   ],
   "metadata": {
    "collapsed": false
   }
  }
 ],
 "metadata": {
  "kernelspec": {
   "display_name": "Python 3",
   "language": "python",
   "name": "python3"
  },
  "language_info": {
   "codemirror_mode": {
    "name": "ipython",
    "version": 2
   },
   "file_extension": ".py",
   "mimetype": "text/x-python",
   "name": "python",
   "nbconvert_exporter": "python",
   "pygments_lexer": "ipython2",
   "version": "2.7.6"
  }
 },
 "nbformat": 4,
 "nbformat_minor": 0
}
