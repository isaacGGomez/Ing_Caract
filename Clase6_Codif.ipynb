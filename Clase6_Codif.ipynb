{
 "cells": [
  {
   "cell_type": "code",
   "execution_count": 2,
   "metadata": {
    "collapsed": true
   },
   "outputs": [
    {
     "data": {
      "text/plain": "        Días            Pronóstico Temperatura máxima Temperatura mínima\n0     Sábado  Parcialmente nublado               28.2               11.2\n1    Domingo  Parcialmente nublado               29.1               10.7\n2      Lunes    Mayormente nublado               26.1               10.4\n3     Martes    Mayormente soleado               29.4               11.1\n4  Miércoles    Mayormente soleado               29.8               11.1",
      "text/html": "<div>\n<style scoped>\n    .dataframe tbody tr th:only-of-type {\n        vertical-align: middle;\n    }\n\n    .dataframe tbody tr th {\n        vertical-align: top;\n    }\n\n    .dataframe thead th {\n        text-align: right;\n    }\n</style>\n<table border=\"1\" class=\"dataframe\">\n  <thead>\n    <tr style=\"text-align: right;\">\n      <th></th>\n      <th>Días</th>\n      <th>Pronóstico</th>\n      <th>Temperatura máxima</th>\n      <th>Temperatura mínima</th>\n    </tr>\n  </thead>\n  <tbody>\n    <tr>\n      <th>0</th>\n      <td>Sábado</td>\n      <td>Parcialmente nublado</td>\n      <td>28.2</td>\n      <td>11.2</td>\n    </tr>\n    <tr>\n      <th>1</th>\n      <td>Domingo</td>\n      <td>Parcialmente nublado</td>\n      <td>29.1</td>\n      <td>10.7</td>\n    </tr>\n    <tr>\n      <th>2</th>\n      <td>Lunes</td>\n      <td>Mayormente nublado</td>\n      <td>26.1</td>\n      <td>10.4</td>\n    </tr>\n    <tr>\n      <th>3</th>\n      <td>Martes</td>\n      <td>Mayormente soleado</td>\n      <td>29.4</td>\n      <td>11.1</td>\n    </tr>\n    <tr>\n      <th>4</th>\n      <td>Miércoles</td>\n      <td>Mayormente soleado</td>\n      <td>29.8</td>\n      <td>11.1</td>\n    </tr>\n  </tbody>\n</table>\n</div>"
     },
     "execution_count": 2,
     "metadata": {},
     "output_type": "execute_result"
    }
   ],
   "source": [
    "import pandas as pd\n",
    "import numpy as np\n",
    "from sklearn.linear_model import LinearRegression,LogisticRegression\n",
    "\n",
    "data=pd.read_csv('https://raw.githubusercontent.com/isaacGGomez/Ing_Caract/master/temps.txt',sep='\\s+',header=None) # Fuente: http://astro.iam.udg.mx/Estacion/NOAAPRMO.TXT\n",
    "#         http://astro.iam.udg.mx/Estacion/NOAAMO.TXT\n",
    "data.columns=['Temperatura máxima','Temperatura mínima','HDD','CDD','Rain']\n",
    "d=['Sábado','Domingo','Lunes','Martes','Miércoles','Jueves','Viernes']\n",
    "dias=[d[i%7] for i in range(len(data))]\n",
    "catego=['Soleado','Mayormente soleado','Parcialmente nublado','Mayormente nublado','Nublado','Lluvioso']\n",
    "prono=[catego[-1] if data['Rain'][i]>0 else catego[int(round(1.2*(data['HDD'][i]-data['CDD'][i])+2))] for i in range(len(data))]\n",
    "df=pd.DataFrame(columns=['Días','Pronóstico','Temperatura máxima','Temperatura mínima'],index=range(len(data)))\n",
    "df.iloc[:,2:4]=data.iloc[:,0:2]\n",
    "df['Días']=dias\n",
    "df['Pronóstico']=prono\n",
    "df.head()"
   ]
  },
  {
   "cell_type": "code",
   "execution_count": 3,
   "outputs": [
    {
     "data": {
      "text/plain": "Pronóstico\nLluvioso                27.250000\nMayormente nublado      25.600000\nMayormente soleado      28.228571\nNublado                 25.650000\nParcialmente nublado    27.022222\nSoleado                 28.900000\nName: Temperatura máxima, dtype: float64"
     },
     "execution_count": 3,
     "metadata": {},
     "output_type": "execute_result"
    }
   ],
   "source": [
    "df.groupby('Pronóstico')['Temperatura máxima'].mean()"
   ],
   "metadata": {
    "collapsed": false
   }
  },
  {
   "cell_type": "code",
   "execution_count": 4,
   "outputs": [
    {
     "data": {
      "text/plain": "        Días            Pronóstico Temperatura máxima Temperatura mínima  \\\n0     Sábado  Parcialmente nublado               28.2               11.2   \n1    Domingo  Parcialmente nublado               29.1               10.7   \n2      Lunes    Mayormente nublado               26.1               10.4   \n3     Martes    Mayormente soleado               29.4               11.1   \n4  Miércoles    Mayormente soleado               29.8               11.1   \n\n       media  \n0  27.022222  \n1  27.022222  \n2  25.600000  \n3  28.228571  \n4  28.228571  ",
      "text/html": "<div>\n<style scoped>\n    .dataframe tbody tr th:only-of-type {\n        vertical-align: middle;\n    }\n\n    .dataframe tbody tr th {\n        vertical-align: top;\n    }\n\n    .dataframe thead th {\n        text-align: right;\n    }\n</style>\n<table border=\"1\" class=\"dataframe\">\n  <thead>\n    <tr style=\"text-align: right;\">\n      <th></th>\n      <th>Días</th>\n      <th>Pronóstico</th>\n      <th>Temperatura máxima</th>\n      <th>Temperatura mínima</th>\n      <th>media</th>\n    </tr>\n  </thead>\n  <tbody>\n    <tr>\n      <th>0</th>\n      <td>Sábado</td>\n      <td>Parcialmente nublado</td>\n      <td>28.2</td>\n      <td>11.2</td>\n      <td>27.022222</td>\n    </tr>\n    <tr>\n      <th>1</th>\n      <td>Domingo</td>\n      <td>Parcialmente nublado</td>\n      <td>29.1</td>\n      <td>10.7</td>\n      <td>27.022222</td>\n    </tr>\n    <tr>\n      <th>2</th>\n      <td>Lunes</td>\n      <td>Mayormente nublado</td>\n      <td>26.1</td>\n      <td>10.4</td>\n      <td>25.600000</td>\n    </tr>\n    <tr>\n      <th>3</th>\n      <td>Martes</td>\n      <td>Mayormente soleado</td>\n      <td>29.4</td>\n      <td>11.1</td>\n      <td>28.228571</td>\n    </tr>\n    <tr>\n      <th>4</th>\n      <td>Miércoles</td>\n      <td>Mayormente soleado</td>\n      <td>29.8</td>\n      <td>11.1</td>\n      <td>28.228571</td>\n    </tr>\n  </tbody>\n</table>\n</div>"
     },
     "execution_count": 4,
     "metadata": {},
     "output_type": "execute_result"
    }
   ],
   "source": [
    "df['media']=df['Pronóstico'].map(_)\n",
    "df.head()"
   ],
   "metadata": {
    "collapsed": false
   }
  },
  {
   "cell_type": "markdown",
   "source": [
    "#### Usando los coeficientes de una regresion en una codificacion de efectos"
   ],
   "metadata": {
    "collapsed": false
   }
  },
  {
   "cell_type": "markdown",
   "source": [],
   "metadata": {
    "collapsed": false
   }
  },
  {
   "cell_type": "code",
   "execution_count": 6,
   "outputs": [
    {
     "data": {
      "text/plain": "        Días Temperatura máxima Temperatura mínima      media  \\\n0     Sábado               28.2               11.2  27.022222   \n1    Domingo               29.1               10.7  27.022222   \n2      Lunes               26.1               10.4  25.600000   \n3     Martes               29.4               11.1  28.228571   \n4  Miércoles               29.8               11.1  28.228571   \n\n   Mayormente nublado  Mayormente soleado  Nublado  Parcialmente nublado  \\\n0                   0                   0        0                     1   \n1                   0                   0        0                     1   \n2                   1                   0        0                     0   \n3                   0                   1        0                     0   \n4                   0                   1        0                     0   \n\n   Soleado  \n0        0  \n1        0  \n2        0  \n3        0  \n4        0  ",
      "text/html": "<div>\n<style scoped>\n    .dataframe tbody tr th:only-of-type {\n        vertical-align: middle;\n    }\n\n    .dataframe tbody tr th {\n        vertical-align: top;\n    }\n\n    .dataframe thead th {\n        text-align: right;\n    }\n</style>\n<table border=\"1\" class=\"dataframe\">\n  <thead>\n    <tr style=\"text-align: right;\">\n      <th></th>\n      <th>Días</th>\n      <th>Temperatura máxima</th>\n      <th>Temperatura mínima</th>\n      <th>media</th>\n      <th>Mayormente nublado</th>\n      <th>Mayormente soleado</th>\n      <th>Nublado</th>\n      <th>Parcialmente nublado</th>\n      <th>Soleado</th>\n    </tr>\n  </thead>\n  <tbody>\n    <tr>\n      <th>0</th>\n      <td>Sábado</td>\n      <td>28.2</td>\n      <td>11.2</td>\n      <td>27.022222</td>\n      <td>0</td>\n      <td>0</td>\n      <td>0</td>\n      <td>1</td>\n      <td>0</td>\n    </tr>\n    <tr>\n      <th>1</th>\n      <td>Domingo</td>\n      <td>29.1</td>\n      <td>10.7</td>\n      <td>27.022222</td>\n      <td>0</td>\n      <td>0</td>\n      <td>0</td>\n      <td>1</td>\n      <td>0</td>\n    </tr>\n    <tr>\n      <th>2</th>\n      <td>Lunes</td>\n      <td>26.1</td>\n      <td>10.4</td>\n      <td>25.600000</td>\n      <td>1</td>\n      <td>0</td>\n      <td>0</td>\n      <td>0</td>\n      <td>0</td>\n    </tr>\n    <tr>\n      <th>3</th>\n      <td>Martes</td>\n      <td>29.4</td>\n      <td>11.1</td>\n      <td>28.228571</td>\n      <td>0</td>\n      <td>1</td>\n      <td>0</td>\n      <td>0</td>\n      <td>0</td>\n    </tr>\n    <tr>\n      <th>4</th>\n      <td>Miércoles</td>\n      <td>29.8</td>\n      <td>11.1</td>\n      <td>28.228571</td>\n      <td>0</td>\n      <td>1</td>\n      <td>0</td>\n      <td>0</td>\n      <td>0</td>\n    </tr>\n  </tbody>\n</table>\n</div>"
     },
     "execution_count": 6,
     "metadata": {},
     "output_type": "execute_result"
    }
   ],
   "source": [
    "E = pd.get_dummies(df,columns=['Pronóstico'],drop_first=True,prefix_sep='',prefix='')\n",
    "E.head()"
   ],
   "metadata": {
    "collapsed": false
   }
  },
  {
   "cell_type": "code",
   "execution_count": 7,
   "outputs": [
    {
     "data": {
      "text/plain": "'Lluvioso'"
     },
     "execution_count": 7,
     "metadata": {},
     "output_type": "execute_result"
    }
   ],
   "source": [
    "CR,= set(df['Pronóstico'].unique())-set(E.columns)\n",
    "CR"
   ],
   "metadata": {
    "collapsed": false
   }
  },
  {
   "cell_type": "code",
   "execution_count": 9,
   "outputs": [
    {
     "data": {
      "text/plain": "array([17, 44], dtype=int64)"
     },
     "execution_count": 9,
     "metadata": {},
     "output_type": "execute_result"
    }
   ],
   "source": [
    "idx, = np.where(df['Pronóstico']==CR)\n",
    "idx"
   ],
   "metadata": {
    "collapsed": false
   }
  },
  {
   "cell_type": "code",
   "execution_count": null,
   "outputs": [],
   "source": [],
   "metadata": {
    "collapsed": false
   }
  },
  {
   "cell_type": "markdown",
   "source": [],
   "metadata": {
    "collapsed": false
   }
  }
 ],
 "metadata": {
  "kernelspec": {
   "display_name": "Python 3",
   "language": "python",
   "name": "python3"
  },
  "language_info": {
   "codemirror_mode": {
    "name": "ipython",
    "version": 2
   },
   "file_extension": ".py",
   "mimetype": "text/x-python",
   "name": "python",
   "nbconvert_exporter": "python",
   "pygments_lexer": "ipython2",
   "version": "2.7.6"
  }
 },
 "nbformat": 4,
 "nbformat_minor": 0
}
