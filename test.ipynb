{
 "cells": [
  {
   "cell_type": "code",
   "execution_count": 3,
   "metadata": {
    "collapsed": true
   },
   "outputs": [
    {
     "data": {
      "text/plain": "   Unnamed: 0  Sector_score  PARA_A  Score_A  Risk_A  PARA_B  Score_B  Risk_B  \\\n0         200          3.89    0.00      0.2   0.000    0.23      0.2   0.046   \n1         201         21.61    0.62      0.2   0.124    0.71      0.2   0.142   \n2         202          2.72    3.26      0.6   1.956    5.55      0.4   2.220   \n3         203         21.61    0.34      0.2   0.068    0.27      0.2   0.054   \n4         204         55.57    0.83      0.2   0.166    0.00      0.2   0.000   \n\n   TOTAL  numbers  ...  PROB  RiSk_E  History  Prob  Risk_F  Score  \\\n0   0.23      5.0  ...   0.2     0.4        0   0.2     0.0    2.0   \n1   1.33      5.0  ...   0.2     0.4        0   0.2     0.0    2.0   \n2   8.81      5.0  ...   0.2     1.2        0   0.2     0.0    3.4   \n3   0.61      5.0  ...   0.2     0.4        0   0.2     0.0    2.0   \n4   0.83      5.0  ...   0.2     0.4        0   0.2     0.0    2.0   \n\n   Inherent_Risk  CONTROL_RISK  Detection_Risk  Audit_Risk  \n0          1.446           0.4             0.5      0.2892  \n1          1.682           0.4             0.5      0.3364  \n2          6.418           1.2             0.5      3.8508  \n3          1.522           0.4             0.5      0.3044  \n4          1.594           0.4             0.5      0.3188  \n\n[5 rows x 26 columns]",
      "text/html": "<div>\n<style scoped>\n    .dataframe tbody tr th:only-of-type {\n        vertical-align: middle;\n    }\n\n    .dataframe tbody tr th {\n        vertical-align: top;\n    }\n\n    .dataframe thead th {\n        text-align: right;\n    }\n</style>\n<table border=\"1\" class=\"dataframe\">\n  <thead>\n    <tr style=\"text-align: right;\">\n      <th></th>\n      <th>Unnamed: 0</th>\n      <th>Sector_score</th>\n      <th>PARA_A</th>\n      <th>Score_A</th>\n      <th>Risk_A</th>\n      <th>PARA_B</th>\n      <th>Score_B</th>\n      <th>Risk_B</th>\n      <th>TOTAL</th>\n      <th>numbers</th>\n      <th>...</th>\n      <th>PROB</th>\n      <th>RiSk_E</th>\n      <th>History</th>\n      <th>Prob</th>\n      <th>Risk_F</th>\n      <th>Score</th>\n      <th>Inherent_Risk</th>\n      <th>CONTROL_RISK</th>\n      <th>Detection_Risk</th>\n      <th>Audit_Risk</th>\n    </tr>\n  </thead>\n  <tbody>\n    <tr>\n      <th>0</th>\n      <td>200</td>\n      <td>3.89</td>\n      <td>0.00</td>\n      <td>0.2</td>\n      <td>0.000</td>\n      <td>0.23</td>\n      <td>0.2</td>\n      <td>0.046</td>\n      <td>0.23</td>\n      <td>5.0</td>\n      <td>...</td>\n      <td>0.2</td>\n      <td>0.4</td>\n      <td>0</td>\n      <td>0.2</td>\n      <td>0.0</td>\n      <td>2.0</td>\n      <td>1.446</td>\n      <td>0.4</td>\n      <td>0.5</td>\n      <td>0.2892</td>\n    </tr>\n    <tr>\n      <th>1</th>\n      <td>201</td>\n      <td>21.61</td>\n      <td>0.62</td>\n      <td>0.2</td>\n      <td>0.124</td>\n      <td>0.71</td>\n      <td>0.2</td>\n      <td>0.142</td>\n      <td>1.33</td>\n      <td>5.0</td>\n      <td>...</td>\n      <td>0.2</td>\n      <td>0.4</td>\n      <td>0</td>\n      <td>0.2</td>\n      <td>0.0</td>\n      <td>2.0</td>\n      <td>1.682</td>\n      <td>0.4</td>\n      <td>0.5</td>\n      <td>0.3364</td>\n    </tr>\n    <tr>\n      <th>2</th>\n      <td>202</td>\n      <td>2.72</td>\n      <td>3.26</td>\n      <td>0.6</td>\n      <td>1.956</td>\n      <td>5.55</td>\n      <td>0.4</td>\n      <td>2.220</td>\n      <td>8.81</td>\n      <td>5.0</td>\n      <td>...</td>\n      <td>0.2</td>\n      <td>1.2</td>\n      <td>0</td>\n      <td>0.2</td>\n      <td>0.0</td>\n      <td>3.4</td>\n      <td>6.418</td>\n      <td>1.2</td>\n      <td>0.5</td>\n      <td>3.8508</td>\n    </tr>\n    <tr>\n      <th>3</th>\n      <td>203</td>\n      <td>21.61</td>\n      <td>0.34</td>\n      <td>0.2</td>\n      <td>0.068</td>\n      <td>0.27</td>\n      <td>0.2</td>\n      <td>0.054</td>\n      <td>0.61</td>\n      <td>5.0</td>\n      <td>...</td>\n      <td>0.2</td>\n      <td>0.4</td>\n      <td>0</td>\n      <td>0.2</td>\n      <td>0.0</td>\n      <td>2.0</td>\n      <td>1.522</td>\n      <td>0.4</td>\n      <td>0.5</td>\n      <td>0.3044</td>\n    </tr>\n    <tr>\n      <th>4</th>\n      <td>204</td>\n      <td>55.57</td>\n      <td>0.83</td>\n      <td>0.2</td>\n      <td>0.166</td>\n      <td>0.00</td>\n      <td>0.2</td>\n      <td>0.000</td>\n      <td>0.83</td>\n      <td>5.0</td>\n      <td>...</td>\n      <td>0.2</td>\n      <td>0.4</td>\n      <td>0</td>\n      <td>0.2</td>\n      <td>0.0</td>\n      <td>2.0</td>\n      <td>1.594</td>\n      <td>0.4</td>\n      <td>0.5</td>\n      <td>0.3188</td>\n    </tr>\n  </tbody>\n</table>\n<p>5 rows × 26 columns</p>\n</div>"
     },
     "execution_count": 3,
     "metadata": {},
     "output_type": "execute_result"
    }
   ],
   "source": [
    "import pandas as pd\n",
    "data = pd.read_csv('Audit_test.csv',sep=\",\")\n",
    "data.head()"
   ]
  },
  {
   "cell_type": "code",
   "execution_count": 2,
   "outputs": [
    {
     "data": {
      "text/plain": "   Unnamed: 0  Sector_score  PARA_A  Score_A  Risk_A  PARA_B  Score_B  Risk_B  \\\n0         200          3.89    0.00      0.2   0.000    0.23      0.2   0.046   \n1         201         21.61    0.62      0.2   0.124    0.71      0.2   0.142   \n2         202          2.72    3.26      0.6   1.956    5.55      0.4   2.220   \n3         203         21.61    0.34      0.2   0.068    0.27      0.2   0.054   \n4         204         55.57    0.83      0.2   0.166    0.00      0.2   0.000   \n\n   TOTAL  numbers  ...  PROB  RiSk_E  History  Prob  Risk_F  Score  \\\n0   0.23      5.0  ...   0.2     0.4        0   0.2     0.0    2.0   \n1   1.33      5.0  ...   0.2     0.4        0   0.2     0.0    2.0   \n2   8.81      5.0  ...   0.2     1.2        0   0.2     0.0    3.4   \n3   0.61      5.0  ...   0.2     0.4        0   0.2     0.0    2.0   \n4   0.83      5.0  ...   0.2     0.4        0   0.2     0.0    2.0   \n\n   Inherent_Risk  CONTROL_RISK  Detection_Risk  Audit_Risk  \n0          1.446           0.4             0.5      0.2892  \n1          1.682           0.4             0.5      0.3364  \n2          6.418           1.2             0.5      3.8508  \n3          1.522           0.4             0.5      0.3044  \n4          1.594           0.4             0.5      0.3188  \n\n[5 rows x 26 columns]",
      "text/html": "<div>\n<style scoped>\n    .dataframe tbody tr th:only-of-type {\n        vertical-align: middle;\n    }\n\n    .dataframe tbody tr th {\n        vertical-align: top;\n    }\n\n    .dataframe thead th {\n        text-align: right;\n    }\n</style>\n<table border=\"1\" class=\"dataframe\">\n  <thead>\n    <tr style=\"text-align: right;\">\n      <th></th>\n      <th>Unnamed: 0</th>\n      <th>Sector_score</th>\n      <th>PARA_A</th>\n      <th>Score_A</th>\n      <th>Risk_A</th>\n      <th>PARA_B</th>\n      <th>Score_B</th>\n      <th>Risk_B</th>\n      <th>TOTAL</th>\n      <th>numbers</th>\n      <th>...</th>\n      <th>PROB</th>\n      <th>RiSk_E</th>\n      <th>History</th>\n      <th>Prob</th>\n      <th>Risk_F</th>\n      <th>Score</th>\n      <th>Inherent_Risk</th>\n      <th>CONTROL_RISK</th>\n      <th>Detection_Risk</th>\n      <th>Audit_Risk</th>\n    </tr>\n  </thead>\n  <tbody>\n    <tr>\n      <th>0</th>\n      <td>200</td>\n      <td>3.89</td>\n      <td>0.00</td>\n      <td>0.2</td>\n      <td>0.000</td>\n      <td>0.23</td>\n      <td>0.2</td>\n      <td>0.046</td>\n      <td>0.23</td>\n      <td>5.0</td>\n      <td>...</td>\n      <td>0.2</td>\n      <td>0.4</td>\n      <td>0</td>\n      <td>0.2</td>\n      <td>0.0</td>\n      <td>2.0</td>\n      <td>1.446</td>\n      <td>0.4</td>\n      <td>0.5</td>\n      <td>0.2892</td>\n    </tr>\n    <tr>\n      <th>1</th>\n      <td>201</td>\n      <td>21.61</td>\n      <td>0.62</td>\n      <td>0.2</td>\n      <td>0.124</td>\n      <td>0.71</td>\n      <td>0.2</td>\n      <td>0.142</td>\n      <td>1.33</td>\n      <td>5.0</td>\n      <td>...</td>\n      <td>0.2</td>\n      <td>0.4</td>\n      <td>0</td>\n      <td>0.2</td>\n      <td>0.0</td>\n      <td>2.0</td>\n      <td>1.682</td>\n      <td>0.4</td>\n      <td>0.5</td>\n      <td>0.3364</td>\n    </tr>\n    <tr>\n      <th>2</th>\n      <td>202</td>\n      <td>2.72</td>\n      <td>3.26</td>\n      <td>0.6</td>\n      <td>1.956</td>\n      <td>5.55</td>\n      <td>0.4</td>\n      <td>2.220</td>\n      <td>8.81</td>\n      <td>5.0</td>\n      <td>...</td>\n      <td>0.2</td>\n      <td>1.2</td>\n      <td>0</td>\n      <td>0.2</td>\n      <td>0.0</td>\n      <td>3.4</td>\n      <td>6.418</td>\n      <td>1.2</td>\n      <td>0.5</td>\n      <td>3.8508</td>\n    </tr>\n    <tr>\n      <th>3</th>\n      <td>203</td>\n      <td>21.61</td>\n      <td>0.34</td>\n      <td>0.2</td>\n      <td>0.068</td>\n      <td>0.27</td>\n      <td>0.2</td>\n      <td>0.054</td>\n      <td>0.61</td>\n      <td>5.0</td>\n      <td>...</td>\n      <td>0.2</td>\n      <td>0.4</td>\n      <td>0</td>\n      <td>0.2</td>\n      <td>0.0</td>\n      <td>2.0</td>\n      <td>1.522</td>\n      <td>0.4</td>\n      <td>0.5</td>\n      <td>0.3044</td>\n    </tr>\n    <tr>\n      <th>4</th>\n      <td>204</td>\n      <td>55.57</td>\n      <td>0.83</td>\n      <td>0.2</td>\n      <td>0.166</td>\n      <td>0.00</td>\n      <td>0.2</td>\n      <td>0.000</td>\n      <td>0.83</td>\n      <td>5.0</td>\n      <td>...</td>\n      <td>0.2</td>\n      <td>0.4</td>\n      <td>0</td>\n      <td>0.2</td>\n      <td>0.0</td>\n      <td>2.0</td>\n      <td>1.594</td>\n      <td>0.4</td>\n      <td>0.5</td>\n      <td>0.3188</td>\n    </tr>\n  </tbody>\n</table>\n<p>5 rows × 26 columns</p>\n</div>"
     },
     "execution_count": 2,
     "metadata": {},
     "output_type": "execute_result"
    }
   ],
   "source": [],
   "metadata": {
    "collapsed": false
   }
  }
 ],
 "metadata": {
  "kernelspec": {
   "display_name": "Python 3",
   "language": "python",
   "name": "python3"
  },
  "language_info": {
   "codemirror_mode": {
    "name": "ipython",
    "version": 2
   },
   "file_extension": ".py",
   "mimetype": "text/x-python",
   "name": "python",
   "nbconvert_exporter": "python",
   "pygments_lexer": "ipython2",
   "version": "2.7.6"
  }
 },
 "nbformat": 4,
 "nbformat_minor": 0
}
