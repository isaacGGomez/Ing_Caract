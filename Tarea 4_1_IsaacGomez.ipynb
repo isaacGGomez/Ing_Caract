{
 "cells": [
  {
   "cell_type": "markdown",
   "id": "6568c8f6",
   "metadata": {},
   "source": [
    "# Codificación de variables categóricas\n",
    "Codifique la siguiente variable categórica usando el método de codificación Ficticia. Incluya una columna de `NaN` para valores perdidos."
   ]
  },
  {
   "cell_type": "code",
   "execution_count": 8,
   "id": "f6788ad6",
   "metadata": {},
   "outputs": [],
   "source": [
    "import pandas as pd\n",
    "import numpy as np\n",
    "\n",
    "aceros=['Corten','Corrugado','Galvanizado','Inoxidable','al Carbón']\n",
    "precios=[(650,800),(600,700),(250,350),(2000,2500),(6000,6500)]\n",
    "categórica=np.random.choice(aceros,size=50)\n",
    "numérica=[]\n",
    "for c in categórica:\n",
    "  numérica.append(np.random.randint(*precios[aceros.index(c)]))\n",
    "df=pd.DataFrame()\n",
    "df['Precio']=numérica\n",
    "df['Acero']=categórica\n",
    "\n",
    "nans=np.random.randint(50,size=np.random.randint(5,10))\n",
    "df.iloc[nans]=np.NaN"
   ]
  },
  {
   "cell_type": "markdown",
   "source": [
    "Indices de valores nulos"
   ],
   "metadata": {
    "collapsed": false
   }
  },
  {
   "cell_type": "code",
   "execution_count": 9,
   "id": "850e6a42",
   "metadata": {},
   "outputs": [
    {
     "name": "stdout",
     "output_type": "stream",
     "text": [
      "[42 32 25  0 40 34  4 15  6]\n"
     ]
    }
   ],
   "source": [
    "print(nans)"
   ]
  },
  {
   "cell_type": "markdown",
   "source": [
    "Exploración del dataframe"
   ],
   "metadata": {
    "collapsed": false
   }
  },
  {
   "cell_type": "code",
   "execution_count": 10,
   "outputs": [
    {
     "data": {
      "text/plain": "   Precio      Acero\n0     NaN        NaN\n1  6406.0  al Carbón\n2   645.0  Corrugado\n3   662.0  Corrugado\n4     NaN        NaN",
      "text/html": "<div>\n<style scoped>\n    .dataframe tbody tr th:only-of-type {\n        vertical-align: middle;\n    }\n\n    .dataframe tbody tr th {\n        vertical-align: top;\n    }\n\n    .dataframe thead th {\n        text-align: right;\n    }\n</style>\n<table border=\"1\" class=\"dataframe\">\n  <thead>\n    <tr style=\"text-align: right;\">\n      <th></th>\n      <th>Precio</th>\n      <th>Acero</th>\n    </tr>\n  </thead>\n  <tbody>\n    <tr>\n      <th>0</th>\n      <td>NaN</td>\n      <td>NaN</td>\n    </tr>\n    <tr>\n      <th>1</th>\n      <td>6406.0</td>\n      <td>al Carbón</td>\n    </tr>\n    <tr>\n      <th>2</th>\n      <td>645.0</td>\n      <td>Corrugado</td>\n    </tr>\n    <tr>\n      <th>3</th>\n      <td>662.0</td>\n      <td>Corrugado</td>\n    </tr>\n    <tr>\n      <th>4</th>\n      <td>NaN</td>\n      <td>NaN</td>\n    </tr>\n  </tbody>\n</table>\n</div>"
     },
     "execution_count": 10,
     "metadata": {},
     "output_type": "execute_result"
    }
   ],
   "source": [
    "df.head()"
   ],
   "metadata": {
    "collapsed": false
   }
  },
  {
   "cell_type": "markdown",
   "source": [
    "Grafica de promedios del precio"
   ],
   "metadata": {
    "collapsed": false
   }
  },
  {
   "cell_type": "code",
   "execution_count": 22,
   "outputs": [
    {
     "data": {
      "text/plain": "<AxesSubplot:ylabel='Acero'>"
     },
     "execution_count": 22,
     "metadata": {},
     "output_type": "execute_result"
    },
    {
     "data": {
      "text/plain": "<Figure size 640x480 with 1 Axes>",
      "image/png": "[encoded data removed]"
     },
     "metadata": {},
     "output_type": "display_data"
    }
   ],
   "source": [
    "means = df.groupby('Acero').mean()\n",
    "means.plot(kind = 'barh')"
   ],
   "metadata": {
    "collapsed": false
   }
  },
  {
   "cell_type": "markdown",
   "source": [
    "#### Creacion de variables dummies\n",
    "\n",
    "Se crea un df con las variables codificadas y la respectiva columna de $Nan$"
   ],
   "metadata": {
    "collapsed": false
   }
  },
  {
   "cell_type": "code",
   "execution_count": 23,
   "outputs": [
    {
     "data": {
      "text/plain": "   Precio  Corrugado  Corten  Galvanizado  Inoxidable  al Carbón  nan\n0     NaN          0       0            0           0          0    1\n1  6406.0          0       0            0           0          1    0\n2   645.0          1       0            0           0          0    0\n3   662.0          1       0            0           0          0    0\n4     NaN          0       0            0           0          0    1",
      "text/html": "<div>\n<style scoped>\n    .dataframe tbody tr th:only-of-type {\n        vertical-align: middle;\n    }\n\n    .dataframe tbody tr th {\n        vertical-align: top;\n    }\n\n    .dataframe thead th {\n        text-align: right;\n    }\n</style>\n<table border=\"1\" class=\"dataframe\">\n  <thead>\n    <tr style=\"text-align: right;\">\n      <th></th>\n      <th>Precio</th>\n      <th>Corrugado</th>\n      <th>Corten</th>\n      <th>Galvanizado</th>\n      <th>Inoxidable</th>\n      <th>al Carbón</th>\n      <th>nan</th>\n    </tr>\n  </thead>\n  <tbody>\n    <tr>\n      <th>0</th>\n      <td>NaN</td>\n      <td>0</td>\n      <td>0</td>\n      <td>0</td>\n      <td>0</td>\n      <td>0</td>\n      <td>1</td>\n    </tr>\n    <tr>\n      <th>1</th>\n      <td>6406.0</td>\n      <td>0</td>\n      <td>0</td>\n      <td>0</td>\n      <td>0</td>\n      <td>1</td>\n      <td>0</td>\n    </tr>\n    <tr>\n      <th>2</th>\n      <td>645.0</td>\n      <td>1</td>\n      <td>0</td>\n      <td>0</td>\n      <td>0</td>\n      <td>0</td>\n      <td>0</td>\n    </tr>\n    <tr>\n      <th>3</th>\n      <td>662.0</td>\n      <td>1</td>\n      <td>0</td>\n      <td>0</td>\n      <td>0</td>\n      <td>0</td>\n      <td>0</td>\n    </tr>\n    <tr>\n      <th>4</th>\n      <td>NaN</td>\n      <td>0</td>\n      <td>0</td>\n      <td>0</td>\n      <td>0</td>\n      <td>0</td>\n      <td>1</td>\n    </tr>\n  </tbody>\n</table>\n</div>"
     },
     "execution_count": 23,
     "metadata": {},
     "output_type": "execute_result"
    }
   ],
   "source": [
    "pddumm = pd.get_dummies(df,prefix_sep='',prefix='',drop_first='',dummy_na=True)\n",
    "pddumm.head()"
   ],
   "metadata": {
    "collapsed": false
   }
  }
 ],
 "metadata": {
  "kernelspec": {
   "display_name": "Python 3",
   "language": "python",
   "name": "python3"
  },
  "language_info": {
   "codemirror_mode": {
    "name": "ipython",
    "version": 3
   },
   "file_extension": ".py",
   "mimetype": "text/x-python",
   "name": "python",
   "nbconvert_exporter": "python",
   "pygments_lexer": "ipython3",
   "version": "3.8.8"
  }
 },
 "nbformat": 4,
 "nbformat_minor": 5
}
