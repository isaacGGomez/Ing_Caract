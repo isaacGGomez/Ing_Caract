{
 "cells": [
  {
   "cell_type": "markdown",
   "metadata": {
    "id": "GH5xsY1z5PPO"
   },
   "source": [
    "### Variables categoricas ordinales"
   ]
  },
  {
   "cell_type": "markdown",
   "source": [
    "1. Importe los datos del archivo `data.csv`\n",
    "\n",
    "Se importan las librerias necesarias y se crea el dataframe"
   ],
   "metadata": {
    "id": "riryAbYv_F79"
   }
  },
  {
   "cell_type": "code",
   "execution_count": 22,
   "metadata": {
    "id": "wxNb8itH5PPp",
    "colab": {
     "base_uri": "https://localhost:8080/",
     "height": 206
    },
    "outputId": "32a4a8c5-d9c5-487c-8dff-671874fc829a"
   },
   "outputs": [
    {
     "data": {
      "text/plain": "       Escolaridad  No. de hijos\n0  Primaria trunca             9\n1       Secundaria             3\n2     Preparatoria             2\n3  Sin escolaridad             3\n4         Primaria             2",
      "text/html": "<div>\n<style scoped>\n    .dataframe tbody tr th:only-of-type {\n        vertical-align: middle;\n    }\n\n    .dataframe tbody tr th {\n        vertical-align: top;\n    }\n\n    .dataframe thead th {\n        text-align: right;\n    }\n</style>\n<table border=\"1\" class=\"dataframe\">\n  <thead>\n    <tr style=\"text-align: right;\">\n      <th></th>\n      <th>Escolaridad</th>\n      <th>No. de hijos</th>\n    </tr>\n  </thead>\n  <tbody>\n    <tr>\n      <th>0</th>\n      <td>Primaria trunca</td>\n      <td>9</td>\n    </tr>\n    <tr>\n      <th>1</th>\n      <td>Secundaria</td>\n      <td>3</td>\n    </tr>\n    <tr>\n      <th>2</th>\n      <td>Preparatoria</td>\n      <td>2</td>\n    </tr>\n    <tr>\n      <th>3</th>\n      <td>Sin escolaridad</td>\n      <td>3</td>\n    </tr>\n    <tr>\n      <th>4</th>\n      <td>Primaria</td>\n      <td>2</td>\n    </tr>\n  </tbody>\n</table>\n</div>"
     },
     "execution_count": 22,
     "metadata": {},
     "output_type": "execute_result"
    }
   ],
   "source": [
    "import pandas as pd\n",
    "import matplotlib.pyplot as plt\n",
    "from sklearn.linear_model import LinearRegression\n",
    "from sklearn.preprocessing import PolynomialFeatures\n",
    "df = pd.read_csv('https://raw.githubusercontent.com/isaacGGomez/Ing_Caract/master/data.csv')\n",
    "df.head()"
   ]
  },
  {
   "cell_type": "markdown",
   "source": [
    "Se puede observar la distribución de los hijos segun la escolaridad donde a mayor escolaridad mayor la cantidad de hijos"
   ],
   "metadata": {
    "collapsed": false
   }
  },
  {
   "cell_type": "code",
   "source": [
    "x = df.groupby(['Escolaridad']).median().sort_values(by = ['No. de hijos'], ascending = True)\n",
    "x.plot(kind = 'barh')"
   ],
   "metadata": {
    "colab": {
     "base_uri": "https://localhost:8080/",
     "height": 282
    },
    "id": "qVPvSqYNghiN",
    "outputId": "fee58bc8-9dc0-40f1-8d19-b8e4841b7483"
   },
   "execution_count": 23,
   "outputs": [
    {
     "data": {
      "text/plain": "<AxesSubplot:ylabel='Escolaridad'>"
     },
     "execution_count": 23,
     "metadata": {},
     "output_type": "execute_result"
    },
    {
     "data": {
      "text/plain": "<Figure size 640x480 with 1 Axes>",
      "image/png": "[encoded data removed]"
     },
     "metadata": {},
     "output_type": "display_data"
    }
   ]
  },
  {
   "cell_type": "markdown",
   "metadata": {
    "id": "hvSpkVgh5PPq"
   },
   "source": [
    "2. Sustituya ahora la variable categórica por valores resultantes de un polinomio cuadrático estrictamente decreciente."
   ]
  },
  {
   "cell_type": "markdown",
   "source": [
    "Se ordenan las variables según el comportamiento"
   ],
   "metadata": {
    "collapsed": false
   }
  },
  {
   "cell_type": "code",
   "source": [
    "dfcatEsc = ['Preparatoria','Secundaria','Primaria','Primaria trunca', 'Sin escolaridad']\n",
    "dfcatEsc"
   ],
   "metadata": {
    "id": "OX7L_GzY_1eH"
   },
   "execution_count": 24,
   "outputs": [
    {
     "data": {
      "text/plain": "['Preparatoria',\n 'Secundaria',\n 'Primaria',\n 'Primaria trunca',\n 'Sin escolaridad']"
     },
     "execution_count": 24,
     "metadata": {},
     "output_type": "execute_result"
    }
   ]
  },
  {
   "cell_type": "markdown",
   "source": [
    "Se hace la codificación mediante PolinomialFeatures de Sklearn"
   ],
   "metadata": {
    "collapsed": false
   }
  },
  {
   "cell_type": "code",
   "source": [
    "qf = PolynomialFeatures(degree=2).fit_transform(pd.factorize(dfcatEsc)[0].reshape(-1,1))[:,2]\n",
    "qf = dict(zip(dfcatEsc,qf))\n",
    "qf"
   ],
   "metadata": {
    "colab": {
     "base_uri": "https://localhost:8080/"
    },
    "id": "s2rx8a-VzeCK",
    "outputId": "ca6c380c-7adc-4148-865f-65c18a142474"
   },
   "execution_count": 25,
   "outputs": [
    {
     "data": {
      "text/plain": "{'Preparatoria': 0.0,\n 'Secundaria': 1.0,\n 'Primaria': 4.0,\n 'Primaria trunca': 9.0,\n 'Sin escolaridad': 16.0}"
     },
     "execution_count": 25,
     "metadata": {},
     "output_type": "execute_result"
    }
   ]
  },
  {
   "cell_type": "code",
   "execution_count": 26,
   "outputs": [
    {
     "data": {
      "text/plain": "          Escolaridad  No. de hijos  Esc Cuad\n0     Primaria trunca             9       9.0\n1          Secundaria             3       1.0\n2        Preparatoria             2       0.0\n3     Sin escolaridad             3      16.0\n4            Primaria             2       4.0\n...               ...           ...       ...\n5055       Secundaria             1       1.0\n5056     Preparatoria             3       0.0\n5057         Primaria             1       4.0\n5058       Secundaria             3       1.0\n5059       Secundaria             3       1.0\n\n[5060 rows x 3 columns]",
      "text/html": "<div>\n<style scoped>\n    .dataframe tbody tr th:only-of-type {\n        vertical-align: middle;\n    }\n\n    .dataframe tbody tr th {\n        vertical-align: top;\n    }\n\n    .dataframe thead th {\n        text-align: right;\n    }\n</style>\n<table border=\"1\" class=\"dataframe\">\n  <thead>\n    <tr style=\"text-align: right;\">\n      <th></th>\n      <th>Escolaridad</th>\n      <th>No. de hijos</th>\n      <th>Esc Cuad</th>\n    </tr>\n  </thead>\n  <tbody>\n    <tr>\n      <th>0</th>\n      <td>Primaria trunca</td>\n      <td>9</td>\n      <td>9.0</td>\n    </tr>\n    <tr>\n      <th>1</th>\n      <td>Secundaria</td>\n      <td>3</td>\n      <td>1.0</td>\n    </tr>\n    <tr>\n      <th>2</th>\n      <td>Preparatoria</td>\n      <td>2</td>\n      <td>0.0</td>\n    </tr>\n    <tr>\n      <th>3</th>\n      <td>Sin escolaridad</td>\n      <td>3</td>\n      <td>16.0</td>\n    </tr>\n    <tr>\n      <th>4</th>\n      <td>Primaria</td>\n      <td>2</td>\n      <td>4.0</td>\n    </tr>\n    <tr>\n      <th>...</th>\n      <td>...</td>\n      <td>...</td>\n      <td>...</td>\n    </tr>\n    <tr>\n      <th>5055</th>\n      <td>Secundaria</td>\n      <td>1</td>\n      <td>1.0</td>\n    </tr>\n    <tr>\n      <th>5056</th>\n      <td>Preparatoria</td>\n      <td>3</td>\n      <td>0.0</td>\n    </tr>\n    <tr>\n      <th>5057</th>\n      <td>Primaria</td>\n      <td>1</td>\n      <td>4.0</td>\n    </tr>\n    <tr>\n      <th>5058</th>\n      <td>Secundaria</td>\n      <td>3</td>\n      <td>1.0</td>\n    </tr>\n    <tr>\n      <th>5059</th>\n      <td>Secundaria</td>\n      <td>3</td>\n      <td>1.0</td>\n    </tr>\n  </tbody>\n</table>\n<p>5060 rows × 3 columns</p>\n</div>"
     },
     "execution_count": 26,
     "metadata": {},
     "output_type": "execute_result"
    }
   ],
   "source": [
    "df['Esc Cuad'] = df['Escolaridad'].map(qf)\n",
    "df"
   ],
   "metadata": {
    "collapsed": false
   }
  },
  {
   "cell_type": "markdown",
   "metadata": {
    "id": "PjjnPG3B5PPy"
   },
   "source": [
    "3. Obtenga una relación lineal usando la clase *LinearRegression* del paquete *sklearn.linear_model*, para la codificacón obtenida y la variable `No. de hijos` y grafique."
   ]
  },
  {
   "cell_type": "code",
   "source": [
    "linearreg = LinearRegression()\n",
    "linearreg.fit(df[['Esc Cuad']],df['No. de hijos'])\n"
   ],
   "metadata": {
    "id": "NdF1fUBA-k4S"
   },
   "execution_count": 27,
   "outputs": [
    {
     "data": {
      "text/plain": "LinearRegression()"
     },
     "execution_count": 27,
     "metadata": {},
     "output_type": "execute_result"
    }
   ]
  },
  {
   "cell_type": "markdown",
   "source": [
    "Proyección de la regresión sobre los reales"
   ],
   "metadata": {
    "collapsed": false
   }
  },
  {
   "cell_type": "code",
   "execution_count": 32,
   "outputs": [
    {
     "data": {
      "text/plain": "<Figure size 640x480 with 1 Axes>",
      "image/png": "[encoded data removed]"
     },
     "metadata": {},
     "output_type": "display_data"
    }
   ],
   "source": [
    "func=linearreg.predict(df[['Esc Cuad']])\n",
    "plt.scatter(df['Esc Cuad'],df['No. de hijos'],s=15,label='Observaciones',)\n",
    "plt.scatter(df['Esc Cuad'],func,s=15,label='Predicción')\n",
    "plt.gca().invert_xaxis()\n",
    "plt.legend()\n",
    "plt.grid()"
   ],
   "metadata": {
    "collapsed": false
   }
  }
 ],
 "metadata": {
  "kernelspec": {
   "display_name": "Python 3",
   "language": "python",
   "name": "python3"
  },
  "language_info": {
   "codemirror_mode": {
    "name": "ipython",
    "version": 3
   },
   "file_extension": ".py",
   "mimetype": "text/x-python",
   "name": "python",
   "nbconvert_exporter": "python",
   "pygments_lexer": "ipython3",
   "version": "3.8.8"
  },
  "colab": {
   "provenance": []
  }
 },
 "nbformat": 4,
 "nbformat_minor": 0
}
