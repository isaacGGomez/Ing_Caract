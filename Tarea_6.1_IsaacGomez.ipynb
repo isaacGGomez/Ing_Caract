{
 "cells": [
  {
   "cell_type": "code",
   "execution_count": 26,
   "metadata": {
    "executionInfo": {
     "elapsed": 257,
     "status": "ok",
     "timestamp": 1614844482088,
     "user": {
      "displayName": "Carlos Arellano",
      "photoUrl": "https://lh3.googleusercontent.com/a-/AOh14GiBH8fGUTBmi6h7rbiSwe2noqDE_qJ7QT79JTtMRA=s64",
      "userId": "03055712073717640513"
     },
     "user_tz": 360
    },
    "id": "-_pi5cta0qbs"
   },
   "outputs": [],
   "source": [
    "import numpy as np\n",
    "import matplotlib.pyplot as plt\n",
    "import pandas as pd"
   ]
  },
  {
   "cell_type": "markdown",
   "metadata": {
    "id": "bgJdKur7PvWW"
   },
   "source": [
    "* Leer la base de datos `edades.csv`"
   ]
  },
  {
   "cell_type": "code",
   "execution_count": 27,
   "metadata": {
    "id": "q00d1MWkQPqr"
   },
   "outputs": [],
   "source": [
    "df_edades = pd.read_csv('edades.csv')"
   ]
  },
  {
   "cell_type": "markdown",
   "metadata": {
    "id": "YTthPvzaQQec"
   },
   "source": [
    "* Discretizar los datos en 10 intervalos iguales. ¿Cuántas personas forman parte de cada intervalo? ¿Cuál es este intervalo?"
   ]
  },
  {
   "cell_type": "code",
   "execution_count": 28,
   "metadata": {},
   "outputs": [
    {
     "data": {
      "text/html": [
       "<div>\n",
       "<style scoped>\n",
       "    .dataframe tbody tr th:only-of-type {\n",
       "        vertical-align: middle;\n",
       "    }\n",
       "\n",
       "    .dataframe tbody tr th {\n",
       "        vertical-align: top;\n",
       "    }\n",
       "\n",
       "    .dataframe thead th {\n",
       "        text-align: right;\n",
       "    }\n",
       "</style>\n",
       "<table border=\"1\" class=\"dataframe\">\n",
       "  <thead>\n",
       "    <tr style=\"text-align: right;\">\n",
       "      <th></th>\n",
       "      <th>edades</th>\n",
       "    </tr>\n",
       "  </thead>\n",
       "  <tbody>\n",
       "    <tr>\n",
       "      <th>0</th>\n",
       "      <td>0</td>\n",
       "    </tr>\n",
       "    <tr>\n",
       "      <th>1</th>\n",
       "      <td>0</td>\n",
       "    </tr>\n",
       "    <tr>\n",
       "      <th>2</th>\n",
       "      <td>1</td>\n",
       "    </tr>\n",
       "    <tr>\n",
       "      <th>3</th>\n",
       "      <td>1</td>\n",
       "    </tr>\n",
       "    <tr>\n",
       "      <th>4</th>\n",
       "      <td>1</td>\n",
       "    </tr>\n",
       "  </tbody>\n",
       "</table>\n",
       "</div>"
      ],
      "text/plain": [
       "   edades\n",
       "0       0\n",
       "1       0\n",
       "2       1\n",
       "3       1\n",
       "4       1"
      ]
     },
     "execution_count": 28,
     "metadata": {},
     "output_type": "execute_result"
    }
   ],
   "source": [
    "df_edades.head()"
   ]
  },
  {
   "cell_type": "code",
   "execution_count": 29,
   "metadata": {
    "id": "oqYcTME0QhVC"
   },
   "outputs": [
    {
     "data": {
      "text/plain": [
       "array([[<AxesSubplot:title={'center':'edades'}>]], dtype=object)"
      ]
     },
     "execution_count": 29,
     "metadata": {},
     "output_type": "execute_result"
    },
    {
     "data": {
      "image/png": "[encoded data removed]",
      "text/plain": [
       "<Figure size 432x288 with 1 Axes>"
      ]
     },
     "metadata": {
      "needs_background": "light"
     },
     "output_type": "display_data"
    }
   ],
   "source": [
    "df_edades.hist()"
   ]
  },
  {
   "cell_type": "code",
   "execution_count": 35,
   "metadata": {},
   "outputs": [
    {
     "data": {
      "text/plain": [
       "10.1"
      ]
     },
     "execution_count": 35,
     "metadata": {},
     "output_type": "execute_result"
    }
   ],
   "source": [
    "#@title Ancho constante\n",
    "bins=10\n",
    "M=df_edades['edades'].max()\n",
    "m=df_edades['edades'].min()\n",
    "intervalo=(M-m)/bins\n",
    "intervalo"
   ]
  },
  {
   "cell_type": "code",
   "execution_count": 36,
   "metadata": {},
   "outputs": [
    {
     "data": {
      "text/plain": [
       "array([  0. ,  10.1,  20.2,  30.3,  40.4,  50.5,  60.6,  70.7,  80.8,\n",
       "        90.9, 101. ])"
      ]
     },
     "execution_count": 36,
     "metadata": {},
     "output_type": "execute_result"
    }
   ],
   "source": [
    "limites=np.linspace(m,M,bins+1)\n",
    "limites"
   ]
  },
  {
   "cell_type": "code",
   "execution_count": 41,
   "metadata": {},
   "outputs": [
    {
     "data": {
      "text/html": [
       "<div>\n",
       "<style scoped>\n",
       "    .dataframe tbody tr th:only-of-type {\n",
       "        vertical-align: middle;\n",
       "    }\n",
       "\n",
       "    .dataframe tbody tr th {\n",
       "        vertical-align: top;\n",
       "    }\n",
       "\n",
       "    .dataframe thead th {\n",
       "        text-align: right;\n",
       "    }\n",
       "</style>\n",
       "<table border=\"1\" class=\"dataframe\">\n",
       "  <thead>\n",
       "    <tr style=\"text-align: right;\">\n",
       "      <th></th>\n",
       "      <th>edades</th>\n",
       "      <th>edades_ancho</th>\n",
       "    </tr>\n",
       "  </thead>\n",
       "  <tbody>\n",
       "    <tr>\n",
       "      <th>0</th>\n",
       "      <td>0</td>\n",
       "      <td>(-0.001, 10.1]</td>\n",
       "    </tr>\n",
       "    <tr>\n",
       "      <th>1</th>\n",
       "      <td>0</td>\n",
       "      <td>(-0.001, 10.1]</td>\n",
       "    </tr>\n",
       "    <tr>\n",
       "      <th>2</th>\n",
       "      <td>1</td>\n",
       "      <td>(-0.001, 10.1]</td>\n",
       "    </tr>\n",
       "    <tr>\n",
       "      <th>3</th>\n",
       "      <td>1</td>\n",
       "      <td>(-0.001, 10.1]</td>\n",
       "    </tr>\n",
       "    <tr>\n",
       "      <th>4</th>\n",
       "      <td>1</td>\n",
       "      <td>(-0.001, 10.1]</td>\n",
       "    </tr>\n",
       "  </tbody>\n",
       "</table>\n",
       "</div>"
      ],
      "text/plain": [
       "   edades    edades_ancho\n",
       "0       0  (-0.001, 10.1]\n",
       "1       0  (-0.001, 10.1]\n",
       "2       1  (-0.001, 10.1]\n",
       "3       1  (-0.001, 10.1]\n",
       "4       1  (-0.001, 10.1]"
      ]
     },
     "execution_count": 41,
     "metadata": {},
     "output_type": "execute_result"
    }
   ],
   "source": [
    "df_edades['edades_ancho']=pd.cut(df_edades['edades'],limites,include_lowest=True)\n",
    "df_edades.head()"
   ]
  },
  {
   "cell_type": "code",
   "execution_count": 49,
   "metadata": {},
   "outputs": [
    {
     "data": {
      "text/plain": [
       "<AxesSubplot:>"
      ]
     },
     "execution_count": 49,
     "metadata": {},
     "output_type": "execute_result"
    },
    {
     "data": {
      "image/png": "[encoded data removed]",
      "text/plain": [
       "<Figure size 864x360 with 1 Axes>"
      ]
     },
     "metadata": {
      "needs_background": "light"
     },
     "output_type": "display_data"
    }
   ],
   "source": [
    "df_edades['edades_ancho'].astype('string').hist(figsize=(12,5))"
   ]
  },
  {
   "cell_type": "code",
   "execution_count": 51,
   "metadata": {},
   "outputs": [
    {
     "data": {
      "text/plain": [
       "(10.1, 20.2]      99\n",
       "(20.2, 30.3]      53\n",
       "(-0.001, 10.1]    44\n",
       "(30.3, 40.4]      14\n",
       "(40.4, 50.5]      10\n",
       "(50.5, 60.6]       8\n",
       "(60.6, 70.7]       3\n",
       "(80.8, 90.9]       2\n",
       "(90.9, 101.0]      2\n",
       "(70.7, 80.8]       1\n",
       "Name: edades_ancho, dtype: int64"
      ]
     },
     "execution_count": 51,
     "metadata": {},
     "output_type": "execute_result"
    }
   ],
   "source": [
    "df_edades['edades_ancho'].value_counts()"
   ]
  },
  {
   "cell_type": "markdown",
   "metadata": {},
   "source": [
    "El intervalo es de 10.1 y la distribución es muy similar a la que nos dá el histograma por defecto:\n",
    "\n",
    "(-0.001, 10.1]    44\n",
    "\n",
    "(10.1, 20.2]      99\n",
    "\n",
    "(20.2, 30.3]      53\n",
    "\n",
    "(30.3, 40.4]      14\n",
    "\n",
    "(40.4, 50.5]      10\n",
    "\n",
    "(50.5, 60.6]       8\n",
    "\n",
    "(60.6, 70.7]       3\n",
    "\n",
    "(70.7, 80.8]       1\n",
    "\n",
    "(80.8, 90.9]       2\n",
    "\n",
    "(90.9, 101.0]      2\n"
   ]
  },
  {
   "cell_type": "markdown",
   "metadata": {
    "id": "yFt6hOq3QiG6"
   },
   "source": [
    "* Discretizar los datos en edades de 10 en 10. ¿Cuántas personas forman parte de cada intervalo?"
   ]
  },
  {
   "cell_type": "code",
   "execution_count": 79,
   "metadata": {
    "id": "rwpbpd3wQxPz"
   },
   "outputs": [
    {
     "data": {
      "text/plain": [
       "<AxesSubplot:>"
      ]
     },
     "execution_count": 79,
     "metadata": {},
     "output_type": "execute_result"
    },
    {
     "data": {
      "image/png": "[encoded data removed]",
      "text/plain": [
       "<Figure size 864x360 with 1 Axes>"
      ]
     },
     "metadata": {
      "needs_background": "light"
     },
     "output_type": "display_data"
    }
   ],
   "source": [
    "limites=np.arange(0, 120, 10)\n",
    "limites\n",
    "df_edades['edades_10_en_10']=pd.cut(df_edades['edades'],limites,include_lowest=True)\n",
    "df_edades['edades_10_en_10'].astype('string').hist(figsize=(12,5))"
   ]
  },
  {
   "cell_type": "code",
   "execution_count": 81,
   "metadata": {},
   "outputs": [
    {
     "data": {
      "text/plain": [
       "(10.0, 20.0]      99\n",
       "(20.0, 30.0]      53\n",
       "(-0.001, 10.0]    44\n",
       "(30.0, 40.0]      14\n",
       "(40.0, 50.0]      10\n",
       "(50.0, 60.0]       8\n",
       "(60.0, 70.0]       3\n",
       "(80.0, 90.0]       2\n",
       "(70.0, 80.0]       1\n",
       "(90.0, 100.0]      1\n",
       "(100.0, 110.0]     1\n",
       "Name: edades_10_en_10, dtype: int64"
      ]
     },
     "execution_count": 81,
     "metadata": {},
     "output_type": "execute_result"
    }
   ],
   "source": [
    "df_edades['edades_10_en_10'].value_counts()"
   ]
  },
  {
   "cell_type": "markdown",
   "metadata": {},
   "source": [
    "Personas por intervalo:\n",
    "(-0.001, 10.0]    44\n",
    "(10.0, 20.0]      99\n",
    "(20.0, 30.0]      53\n",
    "(30.0, 40.0]      14\n",
    "(40.0, 50.0]      10\n",
    "(50.0, 60.0]       8\n",
    "(60.0, 70.0]       3\n",
    "(70.0, 80.0]       1\n",
    "(80.0, 90.0]       2\n",
    "(90.0, 100.0]      1\n",
    "(100.0, 110.0]     1"
   ]
  },
  {
   "cell_type": "markdown",
   "metadata": {
    "id": "pV4biuI8Qx1x"
   },
   "source": [
    "* Discretizar los datos y nombrar los intervalos de acuerdo a la siguiente tabla:\n",
    "\n",
    "Nombre del rango|Rango\n",
    "------------------|:--------:\n",
    "bebé|0-2\n",
    "niño|3-11\n",
    "adolecente|12-17\n",
    "joven|18-25\n",
    "adulto joven|26-39\n",
    "adulto maduro|40-59\n",
    "adulto mayor |60 en adelante\n",
    "\n",
    "Para nombrar los intervalos use el argumento `labels` de la función `cut`"
   ]
  },
  {
   "cell_type": "code",
   "execution_count": 103,
   "metadata": {
    "id": "toTfZllTSo9W"
   },
   "outputs": [],
   "source": [
    "labels = ['bebé', 'niño', 'adolecente', 'joven', 'adulto joven', 'adulto maduro', 'adulto mayor']\n",
    "limites = [0, 2, 11, 17, 25, 39, 59, np.inf]\n",
    "df_edades['Nombre del rango']=pd.cut(df_edades['edades'],bins=limites, labels =labels,include_lowest=True)\n",
    "\n"
   ]
  },
  {
   "cell_type": "markdown",
   "metadata": {
    "id": "VYawvL3vSqTb"
   },
   "source": [
    "* Mostrar un histograma de esta última discretización (¿Cuántas personas forman parte de cada grupo?)."
   ]
  },
  {
   "cell_type": "code",
   "execution_count": 106,
   "metadata": {
    "id": "yioeZca8S1qf"
   },
   "outputs": [
    {
     "data": {
      "text/plain": [
       "<AxesSubplot:>"
      ]
     },
     "execution_count": 106,
     "metadata": {},
     "output_type": "execute_result"
    },
    {
     "data": {
      "image/png": "[encoded data removed]",
      "text/plain": [
       "<Figure size 864x360 with 1 Axes>"
      ]
     },
     "metadata": {
      "needs_background": "light"
     },
     "output_type": "display_data"
    }
   ],
   "source": [
    "df_edades['Nombre del rango'].hist(figsize=(12,5))"
   ]
  },
  {
   "cell_type": "code",
   "execution_count": 108,
   "metadata": {},
   "outputs": [
    {
     "data": {
      "text/plain": [
       "joven            71\n",
       "adolecente       66\n",
       "adulto joven     29\n",
       "niño             28\n",
       "adulto maduro    18\n",
       "bebé             16\n",
       "adulto mayor      8\n",
       "Name: Nombre del rango, dtype: int64"
      ]
     },
     "execution_count": 108,
     "metadata": {},
     "output_type": "execute_result"
    }
   ],
   "source": [
    "df_edades['Nombre del rango'].value_counts()"
   ]
  },
  {
   "cell_type": "markdown",
   "metadata": {
    "id": "o1ri85sIS7b2"
   },
   "source": [
    "* Leer el archivo llamado `Vol-Pot.csv`"
   ]
  },
  {
   "cell_type": "code",
   "execution_count": 111,
   "metadata": {
    "id": "PI6MW3drTF26"
   },
   "outputs": [
    {
     "data": {
      "text/html": [
       "<div>\n",
       "<style scoped>\n",
       "    .dataframe tbody tr th:only-of-type {\n",
       "        vertical-align: middle;\n",
       "    }\n",
       "\n",
       "    .dataframe tbody tr th {\n",
       "        vertical-align: top;\n",
       "    }\n",
       "\n",
       "    .dataframe thead th {\n",
       "        text-align: right;\n",
       "    }\n",
       "</style>\n",
       "<table border=\"1\" class=\"dataframe\">\n",
       "  <thead>\n",
       "    <tr style=\"text-align: right;\">\n",
       "      <th></th>\n",
       "      <th>Volumen</th>\n",
       "      <th>Potencia</th>\n",
       "    </tr>\n",
       "  </thead>\n",
       "  <tbody>\n",
       "    <tr>\n",
       "      <th>0</th>\n",
       "      <td>0.000000</td>\n",
       "      <td>0.000000</td>\n",
       "    </tr>\n",
       "    <tr>\n",
       "      <th>1</th>\n",
       "      <td>0.010001</td>\n",
       "      <td>0.000500</td>\n",
       "    </tr>\n",
       "    <tr>\n",
       "      <th>2</th>\n",
       "      <td>0.020002</td>\n",
       "      <td>0.001001</td>\n",
       "    </tr>\n",
       "    <tr>\n",
       "      <th>3</th>\n",
       "      <td>0.030003</td>\n",
       "      <td>0.001501</td>\n",
       "    </tr>\n",
       "    <tr>\n",
       "      <th>4</th>\n",
       "      <td>0.040004</td>\n",
       "      <td>0.002002</td>\n",
       "    </tr>\n",
       "  </tbody>\n",
       "</table>\n",
       "</div>"
      ],
      "text/plain": [
       "    Volumen  Potencia\n",
       "0  0.000000  0.000000\n",
       "1  0.010001  0.000500\n",
       "2  0.020002  0.001001\n",
       "3  0.030003  0.001501\n",
       "4  0.040004  0.002002"
      ]
     },
     "execution_count": 111,
     "metadata": {},
     "output_type": "execute_result"
    }
   ],
   "source": [
    "df_vol_pot = pd.read_csv('Vol-Pot.csv')\n",
    "df_vol_pot.head()"
   ]
  },
  {
   "cell_type": "code",
   "execution_count": 112,
   "metadata": {},
   "outputs": [
    {
     "data": {
      "text/plain": [
       "array([[<AxesSubplot:title={'center':'Volumen'}>,\n",
       "        <AxesSubplot:title={'center':'Potencia'}>]], dtype=object)"
      ]
     },
     "execution_count": 112,
     "metadata": {},
     "output_type": "execute_result"
    },
    {
     "data": {
      "image/png": "[encoded data removed]",
      "text/plain": [
       "<Figure size 432x288 with 2 Axes>"
      ]
     },
     "metadata": {
      "needs_background": "light"
     },
     "output_type": "display_data"
    }
   ],
   "source": [
    "df_vol_pot.hist()"
   ]
  },
  {
   "cell_type": "markdown",
   "metadata": {
    "id": "IBapzf7YTGZw"
   },
   "source": [
    "* Discretizar la columna de `Potencia` en 10 binas de forma que el intervalo crezca de forma exponencial:\n",
    "```python\n",
    "bins=10\n",
    "intervalo=[np.exp(A*i)-B for i in range(bins+1)]\n",
    "```\n",
    "(Encontrar `A` y `B` de forma que abarque el rango de la columna `Potencia`)."
   ]
  },
  {
   "cell_type": "code",
   "execution_count": 133,
   "metadata": {
    "id": "Q1DlfdIkT1X2"
   },
   "outputs": [
    {
     "data": {
      "text/plain": [
       "<AxesSubplot:>"
      ]
     },
     "execution_count": 133,
     "metadata": {},
     "output_type": "execute_result"
    },
    {
     "data": {
      "image/png": "[encoded data removed]",
      "text/plain": [
       "<Figure size 1008x504 with 1 Axes>"
      ]
     },
     "metadata": {
      "needs_background": "light"
     },
     "output_type": "display_data"
    }
   ],
   "source": [
    "m = df_vol_pot['Potencia'].min()\n",
    "M = df_vol_pot['Potencia'].max()\n",
    "bins = 10\n",
    "A = np.log(M - m)/bins\n",
    "B = m/(np.exp(A)-1)\n",
    "\n",
    "# Calcular los intervalos exponenciales\n",
    "intervalos = [np.exp(A*i)-B for i in range(bins+1)]\n",
    "\n",
    "# Discretizar la columna 'Potencia' utilizando los intervalos exponenciales\n",
    "df_vol_pot['Rango de potencia'] = pd.cut(df_vol_pot['Potencia'], bins=intervalos)\n",
    "df_vol_pot['Rango de potencia'].astype('string').hist(figsize=(14,7))\n"
   ]
  },
  {
   "cell_type": "markdown",
   "metadata": {
    "id": "Q_CPWv0ST4TJ"
   },
   "source": [
    "* ¿Cuántos datos se agrupan en cada intervalo para la columna de `Potencia` y cuántos para la columna de `Volumen`?"
   ]
  },
  {
   "cell_type": "code",
   "execution_count": 135,
   "metadata": {
    "id": "r6OfHvL7UELL"
   },
   "outputs": [
    {
     "data": {
      "text/plain": [
       "(89.471, 147.413]    990\n",
       "(54.304, 89.471]     985\n",
       "(32.959, 54.304]     975\n",
       "(20.004, 32.959]     961\n",
       "(12.141, 20.004]     937\n",
       "(7.369, 12.141]      903\n",
       "(4.473, 7.369]       849\n",
       "(2.715, 4.473]       775\n",
       "(1.648, 2.715]       677\n",
       "(1.0, 1.648]         561\n",
       "Name: Rango de potencia, dtype: int64"
      ]
     },
     "execution_count": 135,
     "metadata": {},
     "output_type": "execute_result"
    }
   ],
   "source": [
    "df_vol_pot['Rango de potencia'].value_counts()"
   ]
  }
 ],
 "metadata": {
  "colab": {
   "authorship_tag": "ABX9TyNIMHSHTdR7XKCFqQYUFjQN",
   "collapsed_sections": [],
   "name": "Copia de Ejercicios de discretización.ipynb",
   "provenance": []
  },
  "kernelspec": {
   "display_name": "Python 3 (ipykernel)",
   "language": "python",
   "name": "python3"
  },
  "language_info": {
   "codemirror_mode": {
    "name": "ipython",
    "version": 3
   },
   "file_extension": ".py",
   "mimetype": "text/x-python",
   "name": "python",
   "nbconvert_exporter": "python",
   "pygments_lexer": "ipython3",
   "version": "3.9.7"
  }
 },
 "nbformat": 4,
 "nbformat_minor": 1
}
