{
 "cells": [
  {
   "cell_type": "markdown",
   "metadata": {
    "id": "GH5xsY1z5PPO"
   },
   "source": [
    "### Variables categoricas ordinales"
   ]
  },
  {
   "cell_type": "markdown",
   "source": [
    "1. Importe los datos del archivo `data.csv`"
   ],
   "metadata": {
    "id": "riryAbYv_F79"
   }
  },
  {
   "cell_type": "code",
   "execution_count": 14,
   "metadata": {
    "id": "wxNb8itH5PPp",
    "colab": {
     "base_uri": "https://localhost:8080/",
     "height": 206
    },
    "outputId": "349cbceb-edba-497d-c75e-ee1ec236c75e"
   },
   "outputs": [
    {
     "data": {
      "text/plain": "       Escolaridad  No. de hijos\n0  Primaria trunca             9\n1       Secundaria             3\n2     Preparatoria             2\n3  Sin escolaridad             3\n4         Primaria             2",
      "text/html": "<div>\n<style scoped>\n    .dataframe tbody tr th:only-of-type {\n        vertical-align: middle;\n    }\n\n    .dataframe tbody tr th {\n        vertical-align: top;\n    }\n\n    .dataframe thead th {\n        text-align: right;\n    }\n</style>\n<table border=\"1\" class=\"dataframe\">\n  <thead>\n    <tr style=\"text-align: right;\">\n      <th></th>\n      <th>Escolaridad</th>\n      <th>No. de hijos</th>\n    </tr>\n  </thead>\n  <tbody>\n    <tr>\n      <th>0</th>\n      <td>Primaria trunca</td>\n      <td>9</td>\n    </tr>\n    <tr>\n      <th>1</th>\n      <td>Secundaria</td>\n      <td>3</td>\n    </tr>\n    <tr>\n      <th>2</th>\n      <td>Preparatoria</td>\n      <td>2</td>\n    </tr>\n    <tr>\n      <th>3</th>\n      <td>Sin escolaridad</td>\n      <td>3</td>\n    </tr>\n    <tr>\n      <th>4</th>\n      <td>Primaria</td>\n      <td>2</td>\n    </tr>\n  </tbody>\n</table>\n</div>"
     },
     "execution_count": 14,
     "metadata": {},
     "output_type": "execute_result"
    }
   ],
   "source": [
    "import pandas as pd\n",
    "from sklearn.linear_model import LinearRegression\n",
    "from sklearn.preprocessing import PolynomialFeatures\n",
    "#Creamos el data frame\n",
    "df = pd.read_csv('data.csv')\n",
    "df.head()"
   ]
  },
  {
   "cell_type": "markdown",
   "metadata": {
    "id": "hvSpkVgh5PPq"
   },
   "source": [
    "2. Sustituya ahora la variable categórica por valores resultantes de un polinomio cuadrático estrictamente decreciente."
   ]
  },
  {
   "cell_type": "code",
   "source": [
    "import numpy as np\n",
    "#Ordenamos las categorías\n",
    "E = df.Escolaridad.unique()\n",
    "E\n"
   ],
   "metadata": {
    "colab": {
     "base_uri": "https://localhost:8080/"
    },
    "id": "xSRhG6CSug5g",
    "outputId": "919e534d-3105-4bb3-ec32-5cd781d7b81c"
   },
   "execution_count": 43,
   "outputs": [
    {
     "data": {
      "text/plain": "array(['Primaria trunca', 'Secundaria', 'Preparatoria', 'Sin escolaridad',\n       'Primaria'], dtype=object)"
     },
     "execution_count": 43,
     "metadata": {},
     "output_type": "execute_result"
    }
   ]
  },
  {
   "cell_type": "code",
   "execution_count": 54,
   "outputs": [
    {
     "data": {
      "text/plain": "['Preparatoria',\n 'Secundaria',\n 'Primaria',\n 'Primaria trunca',\n 'Sin escolaridad']"
     },
     "execution_count": 54,
     "metadata": {},
     "output_type": "execute_result"
    }
   ],
   "source": [
    "Esc_ord = [E[2],E[1],E[4],E[0],E[3]]\n",
    "Esc_ord"
   ],
   "metadata": {
    "collapsed": false
   }
  },
  {
   "cell_type": "code",
   "source": [
    "#Polinomio cuadrático estrictamente decreciente\n",
    "qfeat = PolynomialFeatures(degree=2).fit_transform(\n",
    "    pd.factorize(Esc_ord)[0].reshape(-1, 1))[:, 2]\n",
    "qfeat = dict(zip(Esc_ord,qfeat))\n",
    "qfeat\n",
    "\n"
   ],
   "metadata": {
    "id": "OX7L_GzY_1eH"
   },
   "execution_count": 55,
   "outputs": [
    {
     "data": {
      "text/plain": "{'Preparatoria': 0.0,\n 'Secundaria': 1.0,\n 'Primaria': 4.0,\n 'Primaria trunca': 9.0,\n 'Sin escolaridad': 16.0}"
     },
     "execution_count": 55,
     "metadata": {},
     "output_type": "execute_result"
    }
   ]
  },
  {
   "cell_type": "code",
   "source": [
    "df['Esc_cuad'] = df['Escolaridad'].map(qfeat)\n",
    "df.head()\n"
   ],
   "metadata": {
    "colab": {
     "base_uri": "https://localhost:8080/",
     "height": 206
    },
    "id": "AZdLdmf4tn2Z",
    "outputId": "0447ea65-13dd-4fad-e5f7-504b612d4016"
   },
   "execution_count": 56,
   "outputs": [
    {
     "data": {
      "text/plain": "       Escolaridad  No. de hijos  Esc_cuad  Esc_lin\n0  Primaria trunca             9       9.0       -1\n1       Secundaria             3       1.0        1\n2     Preparatoria             2       0.0        2\n3  Sin escolaridad             3      16.0       -2\n4         Primaria             2       4.0        0",
      "text/html": "<div>\n<style scoped>\n    .dataframe tbody tr th:only-of-type {\n        vertical-align: middle;\n    }\n\n    .dataframe tbody tr th {\n        vertical-align: top;\n    }\n\n    .dataframe thead th {\n        text-align: right;\n    }\n</style>\n<table border=\"1\" class=\"dataframe\">\n  <thead>\n    <tr style=\"text-align: right;\">\n      <th></th>\n      <th>Escolaridad</th>\n      <th>No. de hijos</th>\n      <th>Esc_cuad</th>\n      <th>Esc_lin</th>\n    </tr>\n  </thead>\n  <tbody>\n    <tr>\n      <th>0</th>\n      <td>Primaria trunca</td>\n      <td>9</td>\n      <td>9.0</td>\n      <td>-1</td>\n    </tr>\n    <tr>\n      <th>1</th>\n      <td>Secundaria</td>\n      <td>3</td>\n      <td>1.0</td>\n      <td>1</td>\n    </tr>\n    <tr>\n      <th>2</th>\n      <td>Preparatoria</td>\n      <td>2</td>\n      <td>0.0</td>\n      <td>2</td>\n    </tr>\n    <tr>\n      <th>3</th>\n      <td>Sin escolaridad</td>\n      <td>3</td>\n      <td>16.0</td>\n      <td>-2</td>\n    </tr>\n    <tr>\n      <th>4</th>\n      <td>Primaria</td>\n      <td>2</td>\n      <td>4.0</td>\n      <td>0</td>\n    </tr>\n  </tbody>\n</table>\n</div>"
     },
     "execution_count": 56,
     "metadata": {},
     "output_type": "execute_result"
    }
   ]
  },
  {
   "cell_type": "markdown",
   "metadata": {
    "id": "PjjnPG3B5PPy"
   },
   "source": [
    "3. Obtenga una relación lineal usando la clase *LinearRegression* del paquete *sklearn.linear_model*, para la codificacón obtenida y la variable `No. de hijos` y grafique."
   ]
  },
  {
   "cell_type": "code",
   "source": [
    "#Codificación lineal\n",
    "n=len(df.Escolaridad.unique())\n",
    "L=n-1 if n%2==0 else int((n-1)/2)\n",
    "step=2 if n%2==0 else 1\n",
    "x=range(-L,L+1,step)\n",
    "\n",
    "Esc_lin={catego:1*i for catego,i in zip(Esc_ord,x)}\n",
    "Esc_lin"
   ],
   "metadata": {
    "colab": {
     "base_uri": "https://localhost:8080/"
    },
    "id": "Qe_qqHoQ4Kdy",
    "outputId": "897c34a3-8bf4-4b68-f92b-822ddf6cfa9c"
   },
   "execution_count": 57,
   "outputs": [
    {
     "data": {
      "text/plain": "{'Preparatoria': -2,\n 'Secundaria': -1,\n 'Primaria': 0,\n 'Primaria trunca': 1,\n 'Sin escolaridad': 2}"
     },
     "execution_count": 57,
     "metadata": {},
     "output_type": "execute_result"
    }
   ]
  },
  {
   "cell_type": "code",
   "source": [
    "df['Esc_lin'] = df.Escolaridad.map(Esc_lin) \n",
    "df.head()"
   ],
   "metadata": {
    "colab": {
     "base_uri": "https://localhost:8080/",
     "height": 206
    },
    "id": "NxdG1zq95Kh0",
    "outputId": "a5737fc9-5c92-40e6-b709-efb3d125b1ef"
   },
   "execution_count": 58,
   "outputs": [
    {
     "data": {
      "text/plain": "       Escolaridad  No. de hijos  Esc_cuad  Esc_lin\n0  Primaria trunca             9       9.0        1\n1       Secundaria             3       1.0       -1\n2     Preparatoria             2       0.0       -2\n3  Sin escolaridad             3      16.0        2\n4         Primaria             2       4.0        0",
      "text/html": "<div>\n<style scoped>\n    .dataframe tbody tr th:only-of-type {\n        vertical-align: middle;\n    }\n\n    .dataframe tbody tr th {\n        vertical-align: top;\n    }\n\n    .dataframe thead th {\n        text-align: right;\n    }\n</style>\n<table border=\"1\" class=\"dataframe\">\n  <thead>\n    <tr style=\"text-align: right;\">\n      <th></th>\n      <th>Escolaridad</th>\n      <th>No. de hijos</th>\n      <th>Esc_cuad</th>\n      <th>Esc_lin</th>\n    </tr>\n  </thead>\n  <tbody>\n    <tr>\n      <th>0</th>\n      <td>Primaria trunca</td>\n      <td>9</td>\n      <td>9.0</td>\n      <td>1</td>\n    </tr>\n    <tr>\n      <th>1</th>\n      <td>Secundaria</td>\n      <td>3</td>\n      <td>1.0</td>\n      <td>-1</td>\n    </tr>\n    <tr>\n      <th>2</th>\n      <td>Preparatoria</td>\n      <td>2</td>\n      <td>0.0</td>\n      <td>-2</td>\n    </tr>\n    <tr>\n      <th>3</th>\n      <td>Sin escolaridad</td>\n      <td>3</td>\n      <td>16.0</td>\n      <td>2</td>\n    </tr>\n    <tr>\n      <th>4</th>\n      <td>Primaria</td>\n      <td>2</td>\n      <td>4.0</td>\n      <td>0</td>\n    </tr>\n  </tbody>\n</table>\n</div>"
     },
     "execution_count": 58,
     "metadata": {},
     "output_type": "execute_result"
    }
   ]
  },
  {
   "cell_type": "code",
   "source": [
    "from sklearn.linear_model import LinearRegression\n",
    "\n",
    "# Funcion\n",
    "lr = LinearRegression()\n",
    "\n",
    "lr.fit(df[['Esc_lin','Esc_cuad']],df['No. de hijos'] )\n",
    "f = lr.predict(df[['Esc_lin','Esc_cuad']])\n",
    "print('Intercepto:', lr.intercept_)\n",
    "print('Coeficiente:', lr.coef_[0])"
   ],
   "metadata": {
    "id": "NdF1fUBA-k4S",
    "colab": {
     "base_uri": "https://localhost:8080/"
    },
    "outputId": "b9f20ab1-f415-4a03-e2f4-afc3ac740d42"
   },
   "execution_count": 59,
   "outputs": [
    {
     "name": "stdout",
     "output_type": "stream",
     "text": [
      "Intercepto: 2.5473979875147563\n",
      "Coeficiente: 0.20092389222863483\n"
     ]
    }
   ]
  },
  {
   "cell_type": "code",
   "source": [
    "\n",
    "import matplotlib.pyplot as plt\n",
    "# Graficar los datos originales y las predicciones\n",
    "plt.scatter(df['Esc_cuad'],df['No. de hijos'],label='Observaciones')\n",
    "plt.scatter(df['Esc_cuad'],f,label='Predicción')\n",
    "plt.legend()\n",
    "plt.grid()\n"
   ],
   "metadata": {
    "colab": {
     "base_uri": "https://localhost:8080/",
     "height": 265
    },
    "id": "bUto5z5-zFpc",
    "outputId": "bf04994c-2fe7-4acf-b192-9b896b7bbce8"
   },
   "execution_count": 60,
   "outputs": [
    {
     "data": {
      "text/plain": "<Figure size 640x480 with 1 Axes>",
      "image/png": "[encoded data removed]"
     },
     "metadata": {},
     "output_type": "display_data"
    }
   ]
  }
 ],
 "metadata": {
  "kernelspec": {
   "display_name": "Python 3",
   "language": "python",
   "name": "python3"
  },
  "language_info": {
   "codemirror_mode": {
    "name": "ipython",
    "version": 3
   },
   "file_extension": ".py",
   "mimetype": "text/x-python",
   "name": "python",
   "nbconvert_exporter": "python",
   "pygments_lexer": "ipython3",
   "version": "3.8.8"
  },
  "colab": {
   "provenance": []
  }
 },
 "nbformat": 4,
 "nbformat_minor": 0
}
