{
 "cells": [
  {
   "cell_type": "markdown",
   "metadata": {},
   "source": [
    "## Encuentre la mejor función lineal para\n",
    "$$ y = \\alpha_0 + \\alpha_1x_1 + \\alpha_2x_2 $$"
   ]
  },
  {
   "cell_type": "code",
   "execution_count": 1,
   "metadata": {
    "collapsed": true
   },
   "outputs": [],
   "source": [
    "from sklearn.datasets import load_wine\n",
    "import numpy as np\n",
    "from scipy.optimize import minimize\n",
    "import matplotlib.pyplot as plt\n",
    "import pandas as pd"
   ]
  },
  {
   "cell_type": "code",
   "execution_count": 2,
   "metadata": {},
   "outputs": [],
   "source": [
    "LW=load_wine()\n",
    "data=LW.data\n",
    "names=LW.feature_names\n",
    "df=pd.DataFrame(data=data,columns=names)"
   ]
  },
  {
   "cell_type": "code",
   "execution_count": 3,
   "metadata": {},
   "outputs": [],
   "source": [
    "def fun(a,x,x1,y):\n",
    "        f=a[0]+a[1]*x+a[2]*x1\n",
    "        return np.mean((f-y)**2)"
   ]
  },
  {
   "cell_type": "code",
   "execution_count": 5,
   "metadata": {},
   "outputs": [
    {
     "data": {
      "text/plain": [
       "      fun: 0.053865511359138155\n",
       " hess_inv: array([[27.1968628 , -2.34472819, -1.12535729],\n",
       "       [-2.34472819,  0.57495953,  0.06042491],\n",
       "       [-1.12535729,  0.06042491,  0.05143584]])\n",
       "      jac: array([-3.25962901e-09, -3.25962901e-09, -3.72529030e-09])\n",
       "  message: 'Optimization terminated successfully.'\n",
       "     nfev: 36\n",
       "      nit: 5\n",
       "     njev: 9\n",
       "   status: 0\n",
       "  success: True\n",
       "        x: array([1.31035044, 0.08487273, 0.04534185])"
      ]
     },
     "execution_count": 5,
     "metadata": {},
     "output_type": "execute_result"
    }
   ],
   "source": [
    "a0=np.random.rand(3) # Arreglo de dos elementos aleatorio uniformemente distribuído entre 0 y 1\n",
    "sol=minimize(fun,a0,args=(df.flavanoids,df.alcalinity_of_ash,df.ash))\n",
    "sol"
   ]
  },
  {
   "cell_type": "markdown",
   "metadata": {},
   "source": [
    "La ecuación encontrada es:\n",
    "$$ y = 1.31 + 0.0848x_1 + 0.0453x_2 $$\n",
    "\n",
    "Con $$mse = 0.0538$$"
   ]
  }
 ],
 "metadata": {
  "kernelspec": {
   "display_name": "Python 3 (ipykernel)",
   "language": "python",
   "name": "python3"
  },
  "language_info": {
   "codemirror_mode": {
    "name": "ipython",
    "version": 3
   },
   "file_extension": ".py",
   "mimetype": "text/x-python",
   "name": "python",
   "nbconvert_exporter": "python",
   "pygments_lexer": "ipython3",
   "version": "3.9.15"
  }
 },
 "nbformat": 4,
 "nbformat_minor": 1
}
