{
 "cells": [
  {
   "cell_type": "markdown",
   "metadata": {},
   "source": [
    "## Tarea 2"
   ]
  },
  {
   "cell_type": "code",
   "execution_count": 1,
   "metadata": {
    "collapsed": true
   },
   "outputs": [],
   "source": [
    "from sklearn.datasets import load_wine\n",
    "import numpy as np\n",
    "from scipy.optimize import minimize\n",
    "import pandas as pd"
   ]
  },
  {
   "cell_type": "code",
   "execution_count": 2,
   "metadata": {},
   "outputs": [],
   "source": [
    "# Cargar Datos\n",
    "load_wine=load_wine()\n",
    "data=load_wine.data\n",
    "names=load_wine.feature_names\n",
    "df=pd.DataFrame(data=data,columns=names)"
   ]
  },
  {
   "cell_type": "code",
   "execution_count": 3,
   "metadata": {},
   "outputs": [],
   "source": [
    "def fun(a,x,x1,y):\n",
    "        f=a[0]+a[1]*x+a[2]*x1\n",
    "        return np.mean((f-y)**2)"
   ]
  },
  {
   "cell_type": "code",
   "execution_count": 4,
   "metadata": {},
   "outputs": [
    {
     "data": {
      "text/plain": "      fun: 0.05386551135915076\n hess_inv: array([[27.19686491, -2.34472838, -1.12535737],\n       [-2.34472838,  0.57495954,  0.06042492],\n       [-1.12535737,  0.06042492,  0.05143585]])\n      jac: array([-9.31322575e-10, -9.31322575e-10,  4.65661287e-10])\n  message: 'Optimization terminated successfully.'\n     nfev: 36\n      nit: 5\n     njev: 9\n   status: 0\n  success: True\n        x: array([1.31035049, 0.08487273, 0.04534184])"
     },
     "execution_count": 4,
     "metadata": {},
     "output_type": "execute_result"
    }
   ],
   "source": [
    "# Arreglo de dos elementos aleatorio uniformemente distribuído entre 0 y 1\n",
    "a0=np.random.rand(3)\n",
    "sol=minimize(fun,a0,args=(df.flavanoids,df.alcalinity_of_ash,df.ash))\n",
    "sol"
   ]
  },
  {
   "cell_type": "markdown",
   "metadata": {},
   "source": [
    "La ecuación encontrada es:\n",
    "$$ y = 1.31 + 0.0848x_1 + 0.0453x_2 $$\n",
    "Con $$mse = 0.0538$$"
   ]
  }
 ],
 "metadata": {
  "kernelspec": {
   "display_name": "Python 3 (ipykernel)",
   "language": "python",
   "name": "python3"
  },
  "language_info": {
   "codemirror_mode": {
    "name": "ipython",
    "version": 3
   },
   "file_extension": ".py",
   "mimetype": "text/x-python",
   "name": "python",
   "nbconvert_exporter": "python",
   "pygments_lexer": "ipython3",
   "version": "3.9.15"
  }
 },
 "nbformat": 4,
 "nbformat_minor": 1
}
